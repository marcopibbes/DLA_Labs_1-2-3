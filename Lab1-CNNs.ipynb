{
 "cells": [
  {
   "cell_type": "markdown",
   "id": "d97f7c5d-46f3-4cbd-80ad-f1e50cd65096",
   "metadata": {},
   "source": [
    "# Deep Learning Applications: Laboratory #1\n",
    "\n",
    "In this first laboratory we will work relatively simple architectures to get a feel for working with Deep Models. This notebook is designed to work with PyTorch, but as I said in the introductory lecture: please feel free to use and experiment with whatever tools you like.\n",
    "\n",
    "**Important Notes**:\n",
    "1. Be sure to **document** all of your decisions, as well as your intermediate and final results. Make sure your conclusions and analyses are clearly presented. Don't make us dig into your code or walls of printed results to try to draw conclusions from your code.\n",
    "2. If you use code from someone else (e.g. Github, Stack Overflow, ChatGPT, etc) you **must be transparent about it**. Document your sources and explain how you adapted any partial solutions to creat **your** solution.\n",
    "\n"
   ]
  },
  {
   "cell_type": "markdown",
   "id": "17ed8906-bd19-4b4f-8b79-4feae355ffd6",
   "metadata": {},
   "source": [
    "## Exercise 1: Warming Up\n",
    "In this series of exercises I want you to try to duplicate (on a small scale) the results of the ResNet paper:\n",
    "\n",
    "> [Deep Residual Learning for Image Recognition](https://arxiv.org/abs/1512.03385), Kaiming He, Xiangyu Zhang, Shaoqing Ren, Jian Sun, CVPR 2016.\n",
    "\n",
    "We will do this in steps using a Multilayer Perceptron on MNIST.\n",
    "\n",
    "Recall that the main message of the ResNet paper is that **deeper** networks do not **guarantee** more reduction in training loss (or in validation accuracy). Below you will incrementally build a sequence of experiments to verify this for an MLP. A few guidelines:\n",
    "\n",
    "+ I have provided some **starter** code at the beginning. **NONE** of this code should survive in your solutions. Not only is it **very** badly written, it is also written in my functional style that also obfuscates what it's doing (in part to **discourage** your reuse!). It's just to get you *started*.\n",
    "+ These exercises ask you to compare **multiple** training runs, so it is **really** important that you factor this into your **pipeline**. Using [Tensorboard](https://pytorch.org/tutorials/recipes/recipes/tensorboard_with_pytorch.html) is a **very** good idea -- or, even better [Weights and Biases](https://wandb.ai/site).\n",
    "+ You may work and submit your solutions in **groups of at most two**. Share your ideas with everyone, but the solutions you submit *must be your own*.\n",
    "\n",
    "First some boilerplate to get you started, then on to the actual exercises!"
   ]
  },
  {
   "cell_type": "markdown",
   "id": "edb2b6d1-3df0-464c-9a5f-8c611257a971",
   "metadata": {},
   "source": [
    "### Preface: Some code to get you started\n",
    "\n",
    "What follows is some **very simple** code for training an MLP on MNIST. The point of this code is to get you up and running (and to verify that your Python environment has all needed dependencies).\n",
    "\n",
    "**Note**: As you read through my code and execute it, this would be a good time to think about *abstracting* **your** model definition, and training and evaluation pipelines in order to make it easier to compare performance of different models."
   ]
  },
  {
   "cell_type": "code",
   "execution_count": 1,
   "id": "ab3a8282-2322-4dca-b76e-2f3863bc75fb",
   "metadata": {
    "tags": []
   },
   "outputs": [],
   "source": [
    "%%script false --no-raise-error\n",
    "# Start with some standard imports.\n",
    "import numpy as np\n",
    "import matplotlib.pyplot as plt\n",
    "from functools import reduce\n",
    "import torch\n",
    "from torchvision.datasets import MNIST\n",
    "from torch.utils.data import Subset\n",
    "import torch.nn as nn\n",
    "import torch.nn.functional as F\n",
    "import torchvision.transforms as transforms\n",
    "import math"
   ]
  },
  {
   "cell_type": "markdown",
   "id": "33cc12cc-8422-47bf-8d8e-0950ac05ae96",
   "metadata": {},
   "source": [
    "#### Data preparation\n",
    "\n",
    "Here is some basic dataset loading, validation splitting code to get you started working with MNIST."
   ]
  },
  {
   "cell_type": "code",
   "execution_count": 2,
   "id": "272a69db-0416-444a-9be4-5f055ff48bbb",
   "metadata": {
    "tags": []
   },
   "outputs": [],
   "source": [
    "%%script false --no-raise-error\n",
    "\n",
    "# Standard transformation for MNIST dataset.\n",
    "mnist_transform = transforms.Compose([\n",
    "    transforms.ToTensor(),\n",
    "    transforms.Normalize((0.1307,), (0.3081,))\n",
    "])\n",
    "\n",
    "# Download and load MNIST train and test datasets.\n",
    "mnist_train_full = MNIST(root='./data', train=True, download=True, transform=mnist_transform)\n",
    "mnist_test = MNIST(root='./data', train=False, download=True, transform=mnist_transform)\n",
    "\n",
    "# Create validation set from training data.\n",
    "validation_size = 5000\n",
    "permuted_indices = np.random.permutation(len(mnist_train_full))\n",
    "mnist_validation = Subset(mnist_train_full, permuted_indices[:validation_size])\n",
    "mnist_train = Subset(mnist_train_full, permuted_indices[validation_size:])"
   ]
  },
  {
   "cell_type": "markdown",
   "id": "24e05e96-7707-4490-98b8-50cb5e330af1",
   "metadata": {},
   "source": [
    "#### Boilerplate training and evaluation code\n",
    "\n",
    "This is some **very** rough training, evaluation, and plotting code. Again, just to get you started. I will be *very* disappointed if any of this code makes it into your final submission."
   ]
  },
  {
   "cell_type": "code",
   "execution_count": 3,
   "id": "dbcce348-f603-4d57-b9a8-5b1c6eba28ae",
   "metadata": {
    "tags": []
   },
   "outputs": [],
   "source": [
    "%%script false --no-raise-error\n",
    "\n",
    "from tqdm import tqdm\n",
    "from sklearn.metrics import accuracy_score, classification_report\n",
    "\n",
    "# Train the model for one epoch using the provided data loader.\n",
    "def train_one_epoch(model, dataloader, optimizer, epoch_label='Unknown', device='cpu'):\n",
    "    model.train()\n",
    "    epoch_losses = []\n",
    "    for inputs, targets in tqdm(dataloader, desc=f'Training epoch {epoch_label}', leave=True):\n",
    "        inputs = inputs.to(device)\n",
    "        targets = targets.to(device)\n",
    "\n",
    "        optimizer.zero_grad()\n",
    "        outputs = model(inputs)\n",
    "        loss = F.cross_entropy(outputs, targets)\n",
    "        loss.backward()\n",
    "        optimizer.step()\n",
    "\n",
    "        epoch_losses.append(loss.item())\n",
    "    \n",
    "    return np.mean(epoch_losses)\n",
    "\n",
    "# Evaluate the model on the entire dataset provided by the data loader.\n",
    "def evaluate_model_performance(model, dataloader, device='cpu'):\n",
    "    model.eval()\n",
    "    all_predictions = []\n",
    "    all_targets = []\n",
    "\n",
    "    for inputs, targets in tqdm(dataloader, desc='Evaluating', leave=False):\n",
    "        inputs = inputs.to(device)\n",
    "        logits = model(inputs)\n",
    "        preds = torch.argmax(logits, dim=1)\n",
    "\n",
    "        all_targets.append(targets)\n",
    "        all_predictions.append(preds.detach().cpu().numpy())\n",
    "        \n",
    "    targets_flat = np.hstack(all_targets)\n",
    "    predictions_flat = np.hstack(all_predictions)\n",
    "\n",
    "    return (\n",
    "        accuracy_score(targets_flat, predictions_flat),\n",
    "        classification_report(targets_flat, predictions_flat, zero_division=0, digits=3)\n",
    "    )\n",
    "\n",
    "# Plot training loss and validation accuracy across epochs.\n",
    "def plot_training_curves(metrics_per_epoch):\n",
    "    training_losses = [loss for (loss, _) in metrics_per_epoch]\n",
    "    validation_accuracies = [acc for (_, acc) in metrics_per_epoch]\n",
    "\n",
    "    plt.figure(figsize=(16, 8))\n",
    "\n",
    "    plt.subplot(1, 2, 1)\n",
    "    plt.plot(training_losses)\n",
    "    plt.xlabel('Epoch')\n",
    "    plt.ylabel('Loss')\n",
    "    plt.title('Average Training Loss per Epoch')\n",
    "\n",
    "    plt.subplot(1, 2, 2)\n",
    "    plt.plot(validation_accuracies)\n",
    "    plt.xlabel('Epoch')\n",
    "    plt.ylabel('Validation Accuracy')\n",
    "    best_epoch = np.argmax(validation_accuracies)\n",
    "    best_accuracy = np.max(validation_accuracies)\n",
    "    plt.title(f'Best Accuracy = {best_accuracy} @ epoch {best_epoch}')\n"
   ]
  },
  {
   "cell_type": "markdown",
   "id": "875008c3-306c-4e39-a845-d7bda7862621",
   "metadata": {},
   "source": [
    "#### A basic, parameterized MLP\n",
    "\n",
    "This is a very basic implementation of a Multilayer Perceptron. Don't waste too much time trying to figure out how it works -- the important detail is that it allows you to pass in a list of input, hidden layer, and output *widths*. **Your** implementation should also support this for the exercises to come."
   ]
  },
  {
   "cell_type": "code",
   "execution_count": 4,
   "id": "8c1e503a-37df-4fb9-94e7-85d0adb494bd",
   "metadata": {
    "tags": []
   },
   "outputs": [],
   "source": [
    "%%script false --no-raise-error\n",
    "\n",
    "class FeedForwardMLP(nn.Module):\n",
    "    def __init__(self, layer_dims):\n",
    "        super().__init__()\n",
    "        self.linear_layers = nn.ModuleList([\n",
    "            nn.Linear(in_features, out_features) \n",
    "            for in_features, out_features in zip(layer_dims[:-1], layer_dims[1:])\n",
    "        ])\n",
    "    \n",
    "    def forward(self, x):\n",
    "        # Apply a sequence of Linear + ReLU (except last) in a functional style\n",
    "        return reduce(\n",
    "            lambda composed, layer: lambda x: layer(F.relu(composed(x))),\n",
    "            self.linear_layers,\n",
    "            lambda x: x.flatten(1)\n",
    "        )(x)"
   ]
  },
  {
   "cell_type": "markdown",
   "id": "4ae06e26-8fa3-414e-a502-8d1c18ba9eb7",
   "metadata": {},
   "source": [
    "#### A *very* minimal training pipeline.\n",
    "\n",
    "Here is some basic training and evaluation code to get you started.\n",
    "\n",
    "**Important**: I cannot stress enough that this is a **terrible** example of how to implement a training pipeline. You can do better!"
   ]
  },
  {
   "cell_type": "code",
   "execution_count": 5,
   "id": "fc89e48f-d8f3-4122-842d-1ff389499854",
   "metadata": {
    "tags": []
   },
   "outputs": [],
   "source": [
    "%%script false --no-raise-error\n",
    "\n",
    "# Device and training hyperparameters.\n",
    "device = 'cuda' if torch.cuda.is_available() else 'cpu'\n",
    "print(f'Using device: {device}')\n",
    "\n",
    "num_epochs = 30\n",
    "learning_rate = 0.01\n",
    "batch_size = 512\n",
    "\n",
    "# Model architecture parameters.\n",
    "input_dim = 28 * 28\n",
    "# hidden_width = 16\n",
    "# hidden_depth = 2\n",
    "\n",
    "# Data loaders.\n",
    "train_loader = torch.utils.data.DataLoader(ds_train, batch_size=batch_size, shuffle=True, num_workers=4)\n",
    "val_loader   = torch.utils.data.DataLoader(ds_val, batch_size=batch_size, num_workers=4)\n",
    "test_loader  = torch.utils.data.DataLoader(ds_test, batch_size=batch_size, shuffle=True, num_workers=4)\n",
    "\n",
    "# Model and optimizer setup.\n",
    "mlp_model = FeedForwardMLP([input_dim, 256, 128, 10]).to(device)  # or: [hidden_width] * hidden_depth + [10]\n",
    "optimizer = torch.optim.Adam(params=mlp_model.parameters(), lr=learning_rate)\n",
    "\n",
    "# Training loop.\n",
    "training_metrics = []\n",
    "for current_epoch in range(num_epochs):\n",
    "    epoch_loss = train_one_epoch(mlp_model, train_loader, optimizer, current_epoch, device=device)\n",
    "    val_accuracy, _ = evaluate_model_performance(mlp_model, val_loader, device=device)\n",
    "    training_metrics.append((epoch_loss, val_accuracy))\n",
    "\n",
    "# Plot performance curves.\n",
    "plot_training_curves(training_metrics)\n",
    "\n",
    "# Final evaluation on test set.\n",
    "_, test_report = evaluate_model_performance(mlp_model, test_loader, device=device)\n",
    "print(f'Accuracy report on TEST:\\n{test_report}')\n"
   ]
  },
  {
   "cell_type": "markdown",
   "id": "de2cad13-ee2c-4e43-b5c7-31760da8c2df",
   "metadata": {},
   "source": [
    "### Exercise 1.1: A baseline MLP\n",
    "\n",
    "Implement a *simple* Multilayer Perceptron to classify the 10 digits of MNIST (e.g. two *narrow* layers). Use my code above as inspiration, but implement your own training pipeline -- you will need it later. Train this model to convergence, monitoring (at least) the loss and accuracy on the training and validation sets for every epoch. Below I include a basic implementation to get you started -- remember that you should write your *own* pipeline!\n",
    "\n",
    "**Note**: This would be a good time to think about *abstracting* your model definition, and training and evaluation pipelines in order to make it easier to compare performance of different models.\n",
    "\n",
    "**Important**: Given the *many* runs you will need to do, and the need to *compare* performance between them, this would **also** be a great point to study how **Tensorboard** or **Weights and Biases** can be used for performance monitoring."
   ]
  },
  {
   "cell_type": "code",
   "execution_count": 6,
   "id": "0ad4ddc4",
   "metadata": {},
   "outputs": [
    {
     "name": "stderr",
     "output_type": "stream",
     "text": [
      "/home/marco/miniforge3/envs/DLA/lib/python3.12/site-packages/tqdm/auto.py:21: TqdmWarning: IProgress not found. Please update jupyter and ipywidgets. See https://ipywidgets.readthedocs.io/en/stable/user_install.html\n",
      "  from .autonotebook import tqdm as notebook_tqdm\n"
     ]
    }
   ],
   "source": [
    "#some necessary imports for the entire notebook to run\n",
    "\n",
    "\n",
    "import os\n",
    "os.environ['CUBLAS_WORKSPACE_CONFIG'] = ':4096:8'\n",
    "import time\n",
    "import copy\n",
    "\n",
    "import torch\n",
    "import torch.nn as nn\n",
    "import torch.optim as optim\n",
    "from torch.utils.tensorboard import SummaryWriter\n",
    "from torch.utils.data import DataLoader, random_split, Subset\n",
    "import torchvision\n",
    "from torchvision import transforms\n",
    "from torchvision.models.resnet import BasicBlock, Bottleneck\n",
    "\n",
    "from tqdm.auto import tqdm\n",
    "import inspect\n",
    "import numpy as np\n",
    "import math\n",
    "import random"
   ]
  },
  {
   "cell_type": "code",
   "execution_count": 7,
   "id": "c82d559b",
   "metadata": {},
   "outputs": [],
   "source": [
    "# Set random seeds for reproducibility.\n",
    "# Note: This is not a guarantee of reproducibility across different hardware or software versions.\n",
    "\n",
    "SEED = 42\n",
    "torch.manual_seed(SEED)\n",
    "np.random.seed(SEED)\n",
    "random.seed(SEED)\n",
    "torch.use_deterministic_algorithms(True)\n",
    "torch.backends.cudnn.deterministic = True"
   ]
  },
  {
   "cell_type": "markdown",
   "id": "3c83df0b",
   "metadata": {},
   "source": [
    "## 🛠️ Working Paths\n",
    "\n",
    "- **`DATA_DIR`**: Directory where data is or will be stored (e.g., MNIST dataset).  \n",
    "- **`CHECKPOINTS_DIR`**: Path to save model checkpoints (`.pt` or `.pth` files).  \n",
    "- **`LOGS_DIR`**: Directory for logs (e.g., for TensorBoard visualizations).\n",
    "\n",
    "---\n",
    "\n",
    "## ⚙️ Training Hyperparameters\n",
    "\n",
    "- **`BATCH_SIZE = 128`**: Number of examples processed in parallel in each batch.  \n",
    "- **`NUM_WORKERS = 4`**: Number of parallel workers for loading batches — speeds up data loading.  \n",
    "- **`LEARNING_RATE = 1e-3`**: Initial learning rate.  \n",
    "- **`EARLY_STOPPING_PATIENCE = 3`**: Regularization technique to avoid overfitting — stops training if the model doesn't improve for 3 consecutive epochs.  \n",
    "- **`NUM_EPOCHS = 30`**: Maximum number of training epochs.\n",
    "\n",
    "---\n",
    "\n",
    "## 💻 Device Configuration\n",
    "\n",
    "- **CUDA Detection**: Automatically detects if a CUDA-capable GPU is available.  \n",
    "  - If available → use **GPU**  \n",
    "  - Otherwise → use **CPU**\n",
    "- **`device = torch.device(...)`**: Standard PyTorch approach to ensure code runs seamlessly on both GPU and CPU.\n",
    "\n"
   ]
  },
  {
   "cell_type": "code",
   "execution_count": 8,
   "id": "827b97d9",
   "metadata": {},
   "outputs": [
    {
     "name": "stdout",
     "output_type": "stream",
     "text": [
      "Using device: cuda\n"
     ]
    }
   ],
   "source": [
    "# Directory paths for dataset, model checkpoints, and logs.\n",
    "DATA_DIR = './data'\n",
    "CHECKPOINTS_DIR = './checkpoints'\n",
    "LOGS_DIR = './logs'\n",
    "\n",
    "# Training hyperparameters.\n",
    "BATCH_SIZE = 128\n",
    "NUM_WORKERS = 4\n",
    "LEARNING_RATE = 1e-3\n",
    "EARLY_STOPPING_PATIENCE = 3\n",
    "NUM_EPOCHS = 30\n",
    "\n",
    "# Device setup.\n",
    "device = torch.device('cuda' if torch.cuda.is_available() else 'cpu')\n",
    "print(f'Using device: {device}')\n"
   ]
  },
  {
   "cell_type": "code",
   "execution_count": 9,
   "id": "82ae41f0",
   "metadata": {},
   "outputs": [
    {
     "data": {
      "text/html": [
       "\n",
       "      <iframe id=\"tensorboard-frame-1c80317fa3b1799d\" width=\"100%\" height=\"800\" frameborder=\"0\">\n",
       "      </iframe>\n",
       "      <script>\n",
       "        (function() {\n",
       "          const frame = document.getElementById(\"tensorboard-frame-1c80317fa3b1799d\");\n",
       "          const url = new URL(\"/\", window.location);\n",
       "          const port = 6006;\n",
       "          if (port) {\n",
       "            url.port = port;\n",
       "          }\n",
       "          frame.src = url;\n",
       "        })();\n",
       "      </script>\n",
       "    "
      ],
      "text/plain": [
       "<IPython.core.display.HTML object>"
      ]
     },
     "metadata": {},
     "output_type": "display_data"
    }
   ],
   "source": [
    "#TensorBoard setup. #This is your window to visualize tensorboard logs.\n",
    "%load_ext tensorboard\n",
    "%tensorboard --logdir=./logs"
   ]
  },
  {
   "cell_type": "markdown",
   "id": "68924dbf",
   "metadata": {},
   "source": [
    "\n",
    "\n",
    "## 🧹 `clear` Function\n",
    "\n",
    "This utility function ensures a clean directory by:\n",
    "\n",
    "1. Checking if the directory exists and is indeed a folder.\n",
    "2. If so, it deletes the entire directory using `shutil.rmtree()`.\n",
    "3. Then it recreates the directory using `os.makedirs(..., exist_ok=True)` — safe even if the directory already exists.\n",
    "\n",
    "It is used to ensure a clean and repeatable environment during experiments, preventing old files (e.g. old saved weights or TensorBoard logs) from interfering with new ones.\n",
    "Great in automated training pipelines (e.g. in batch scripts or multiple experiments)."
   ]
  },
  {
   "cell_type": "code",
   "execution_count": 10,
   "id": "8ceecfed",
   "metadata": {},
   "outputs": [],
   "source": [
    "import os\n",
    "import shutil\n",
    "\n",
    "def clear_directory(directory_path):\n",
    "    \"\"\"\n",
    "    Deletes the contents of the given directory if it exists,\n",
    "    then recreates an empty directory at the same path.\n",
    "    \"\"\"\n",
    "    if os.path.exists(directory_path):\n",
    "        if os.path.isdir(directory_path):\n",
    "            shutil.rmtree(directory_path)\n",
    "    os.makedirs(directory_path, exist_ok=True)\n",
    "\n",
    "# Example usage to clear directories before starting training:\n",
    "# clear_directory(DATA_DIR)\n",
    "# clear_directory(CHECKPOINTS_DIR)\n",
    "# clear_directory(LOGS_DIR)\n"
   ]
  },
  {
   "cell_type": "code",
   "execution_count": 11,
   "id": "3825cfc6",
   "metadata": {},
   "outputs": [],
   "source": [
    "# Import personal modules for training pipeline and model architectures.\n",
    "from SLTrainingPipeline import SLTrainingPipeline\n",
    "from MLP import MLP, ResMLP\n",
    "from CNN import CNN, ResCNN\n"
   ]
  },
  {
   "cell_type": "markdown",
   "id": "fe642c49",
   "metadata": {},
   "source": [
    "## 📊 `log_gradient_magnitudes` Function\n",
    "\n",
    "### 🔍 What It Does\n",
    "\n",
    "- Logs the **gradient norm** of the **first** and **last** layers to **TensorBoard**.\n",
    "- Computes and logs the **ratio** between the two gradient norms.\n",
    "- Activated every `log_interval` batches (e.g., every 32), **only during training**.\n",
    "\n",
    "---\n",
    "\n",
    "### ✅ Why It’s Useful\n",
    "\n",
    "This function helps **diagnose vanishing or exploding gradients** — common issues in deep networks:\n",
    "\n",
    "- If the **last layer’s gradient** is significantly **smaller** than the **first layer’s**, it may signal that gradients are not propagating effectively back through the network.\n",
    "- This information can help in debugging training issues and choosing better architectures or learning rates.\n",
    "\n",
    "---\n",
    "\n",
    "### 🧠 Typical Use Case\n",
    "\n",
    "> Use during training to **monitor gradient flow**, especially in deep or unstable models.\n"
   ]
  },
  {
   "cell_type": "markdown",
   "id": "bbc41cdb",
   "metadata": {},
   "source": [
    "## 🧪 `monitor_initial_weight_change` Function\n",
    "\n",
    "### 🔍 What It Does\n",
    "\n",
    "- At **epoch 0**, it stores the **average of the weights** for each layer.\n",
    "- At **epoch 1**, it compares the **updated weight averages** with the initial ones.\n",
    "- Prints the **absolute change** in weights for each layer.\n",
    "\n",
    "---\n",
    "\n",
    "### ✅ Why It’s Useful\n",
    "\n",
    "This function helps **monitor early weight updates**, which is critical for debugging training dynamics:\n",
    "\n",
    "- If weights **do not change significantly**, it may indicate:\n",
    "  - A **learning rate that is too low**\n",
    "  - **Poor weight initialization**\n",
    "  - **Vanishing gradients**\n",
    "\n",
    "---\n",
    "\n",
    "### 🧠 Typical Use Case\n",
    "\n",
    "> Use during the first few epochs to verify that learning is actually happening and weights are being meaningfully updated.\n"
   ]
  },
  {
   "cell_type": "code",
   "execution_count": 12,
   "id": "dc34eeec",
   "metadata": {},
   "outputs": [],
   "source": [
    "# Callbacks for monitoring training dynamics and metrics.\n",
    "\n",
    "def log_gradient_magnitudes(pipeline, **context):\n",
    "    \"\"\"\n",
    "    Logs gradient magnitudes of first and last layers, plus their ratio,\n",
    "    at regular intervals during training.\n",
    "    \"\"\"\n",
    "    if not context.get(\"is_training\", False) or not pipeline.writer:\n",
    "        return\n",
    "\n",
    "    log_interval = 32\n",
    "    writer = pipeline.writer\n",
    "    model = pipeline.model\n",
    "    run_id = pipeline.run_id\n",
    "    batch_size = context.get(\"batch_size\", 64)\n",
    "    global_step = pipeline.current_epoch * batch_size + pipeline.current_batch\n",
    "\n",
    "    if global_step % log_interval != 0:\n",
    "        return\n",
    "\n",
    "    grad_params = [\n",
    "        (idx, name, param)\n",
    "        for idx, (name, param) in enumerate(model.named_parameters())\n",
    "        if param.requires_grad and param.grad is not None and \"bias\" not in name\n",
    "    ]\n",
    "\n",
    "    if not grad_params:\n",
    "        return\n",
    "\n",
    "    first_idx, first_name, first_param = grad_params[0]\n",
    "    last_idx, last_name, last_param = grad_params[-1]\n",
    "\n",
    "    first_grad_norm = torch.norm(first_param.grad).item()\n",
    "    last_grad_norm = torch.norm(last_param.grad).item()\n",
    "\n",
    "    writer.add_scalar(f\"grad_first_layer/{run_id}\", first_grad_norm, global_step)\n",
    "    writer.add_scalar(f\"grad_last_layer/{run_id}\", last_grad_norm, global_step)\n",
    "\n",
    "    if first_grad_norm > 0:\n",
    "        grad_ratio = last_grad_norm / first_grad_norm\n",
    "        writer.add_scalar(f\"grad_last_to_first_ratio/{run_id}\", grad_ratio, global_step)\n",
    "\n",
    "    writer.flush()\n",
    "\n",
    "\n",
    "def monitor_initial_weight_change(pipeline, **context):\n",
    "    \"\"\"\n",
    "    At the start of training, stores initial weights mean values,\n",
    "    then after the first epoch prints how much weights changed.\n",
    "    \"\"\"\n",
    "    if not context.get('is_training', False) or pipeline.current_batch != 0:\n",
    "        return\n",
    "\n",
    "    epoch = pipeline.current_epoch\n",
    "\n",
    "    if epoch == 0:\n",
    "        pipeline.callbacks_data['initial_weights'] = {\n",
    "            name: param.data.clone().mean().item()\n",
    "            for name, param in pipeline.model.named_parameters()\n",
    "        }\n",
    "    elif epoch == 1:\n",
    "        print(\"Weight changes after first epoch:\")\n",
    "        for name, param in pipeline.model.named_parameters():\n",
    "            initial_mean = pipeline.callbacks_data['initial_weights'][name]\n",
    "            current_mean = param.data.mean().item()\n",
    "            change = abs(current_mean - initial_mean)\n",
    "            print(f\"{name}: initial = {initial_mean:.6f}, current = {current_mean:.6f}, change = {change:.6f}\")\n",
    "\n",
    "\n",
    "\n"
   ]
  },
  {
   "cell_type": "markdown",
   "id": "78ceddeb",
   "metadata": {},
   "source": [
    "## 🎯 `accuracy_metric` Function\n",
    "\n",
    "### 🔍 What It Does\n",
    "\n",
    "- Computes **accuracy** by comparing model **logits** (predictions) with the **true targets**.\n",
    "- Typically used with `torch.argmax` to convert logits into predicted class labels.\n",
    "- Can be stored in a **`metrics` dictionary** for modular and flexible use during training and evaluation loops.\n",
    "\n",
    "\n",
    "Provides a custom accuracy metric."
   ]
  },
  {
   "cell_type": "code",
   "execution_count": 13,
   "id": "1524deb2",
   "metadata": {},
   "outputs": [],
   "source": [
    "# Dictionary registering callbacks by training event hooks.\n",
    "gradient_callbacks = {\n",
    "    # 'on_batch_begin': [monitor_initial_weight_change],\n",
    "    'on_after_back': [log_gradient_magnitudes]\n",
    "}\n",
    "\n",
    "\n",
    "# Metrics definitions.\n",
    "\n",
    "def accuracy_metric(logits, targets):\n",
    "    _, predicted_labels = torch.max(logits.data, dim=1)\n",
    "    return (predicted_labels == targets).float().mean().item()\n",
    "\n",
    "metrics = {\"accuracy\": accuracy_metric}"
   ]
  },
  {
   "cell_type": "markdown",
   "id": "7f718b54",
   "metadata": {},
   "source": [
    "## 🖼️ MNIST Transform & DataLoaders\n",
    "\n",
    "### 🔍 What It Does\n",
    "\n",
    "Applies standard preprocessing to MNIST images:\n",
    "\n",
    "- **`ToTensor()`**:  \n",
    "  Converts a PIL image to a PyTorch tensor of shape `[1, 28, 28]` with values in the range **[0, 1]**.\n",
    "\n",
    "- **`Normalize((0.1307,), (0.3081,))`**:  \n",
    "  Normalizes the single-channel (grayscale) image using the **mean** and **standard deviation** of the MNIST dataset.\n",
    "\n",
    "- **Defines DataLoaders ready for training** \n",
    "\n",
    "---\n",
    "\n",
    "### 🧠 Why It’s Useful\n",
    "\n",
    "- **Normalization** improves:\n",
    "  - **Training stability**\n",
    "  - **Convergence speed**\n",
    "  - **Numerical consistency** across batches\n",
    "\n",
    "---"
   ]
  },
  {
   "cell_type": "code",
   "execution_count": 14,
   "id": "d7664824",
   "metadata": {},
   "outputs": [
    {
     "name": "stdout",
     "output_type": "stream",
     "text": [
      "Downloading http://yann.lecun.com/exdb/mnist/train-images-idx3-ubyte.gz\n",
      "Failed to download (trying next):\n",
      "HTTP Error 404: Not Found\n",
      "\n",
      "Downloading https://ossci-datasets.s3.amazonaws.com/mnist/train-images-idx3-ubyte.gz\n",
      "Downloading https://ossci-datasets.s3.amazonaws.com/mnist/train-images-idx3-ubyte.gz to ./data/MNIST/raw/train-images-idx3-ubyte.gz\n"
     ]
    },
    {
     "name": "stderr",
     "output_type": "stream",
     "text": [
      "100%|██████████| 9.91M/9.91M [00:01<00:00, 7.48MB/s]\n"
     ]
    },
    {
     "name": "stdout",
     "output_type": "stream",
     "text": [
      "Extracting ./data/MNIST/raw/train-images-idx3-ubyte.gz to ./data/MNIST/raw\n",
      "\n",
      "Downloading http://yann.lecun.com/exdb/mnist/train-labels-idx1-ubyte.gz\n",
      "Failed to download (trying next):\n",
      "HTTP Error 404: Not Found\n",
      "\n",
      "Downloading https://ossci-datasets.s3.amazonaws.com/mnist/train-labels-idx1-ubyte.gz\n",
      "Downloading https://ossci-datasets.s3.amazonaws.com/mnist/train-labels-idx1-ubyte.gz to ./data/MNIST/raw/train-labels-idx1-ubyte.gz\n"
     ]
    },
    {
     "name": "stderr",
     "output_type": "stream",
     "text": [
      "100%|██████████| 28.9k/28.9k [00:00<00:00, 280kB/s]\n"
     ]
    },
    {
     "name": "stdout",
     "output_type": "stream",
     "text": [
      "Extracting ./data/MNIST/raw/train-labels-idx1-ubyte.gz to ./data/MNIST/raw\n",
      "\n",
      "Downloading http://yann.lecun.com/exdb/mnist/t10k-images-idx3-ubyte.gz\n",
      "Failed to download (trying next):\n",
      "HTTP Error 404: Not Found\n",
      "\n",
      "Downloading https://ossci-datasets.s3.amazonaws.com/mnist/t10k-images-idx3-ubyte.gz\n",
      "Downloading https://ossci-datasets.s3.amazonaws.com/mnist/t10k-images-idx3-ubyte.gz to ./data/MNIST/raw/t10k-images-idx3-ubyte.gz\n"
     ]
    },
    {
     "name": "stderr",
     "output_type": "stream",
     "text": [
      "100%|██████████| 1.65M/1.65M [00:00<00:00, 2.54MB/s]\n"
     ]
    },
    {
     "name": "stdout",
     "output_type": "stream",
     "text": [
      "Extracting ./data/MNIST/raw/t10k-images-idx3-ubyte.gz to ./data/MNIST/raw\n",
      "\n",
      "Downloading http://yann.lecun.com/exdb/mnist/t10k-labels-idx1-ubyte.gz\n",
      "Failed to download (trying next):\n",
      "HTTP Error 404: Not Found\n",
      "\n",
      "Downloading https://ossci-datasets.s3.amazonaws.com/mnist/t10k-labels-idx1-ubyte.gz\n",
      "Downloading https://ossci-datasets.s3.amazonaws.com/mnist/t10k-labels-idx1-ubyte.gz to ./data/MNIST/raw/t10k-labels-idx1-ubyte.gz\n"
     ]
    },
    {
     "name": "stderr",
     "output_type": "stream",
     "text": [
      "100%|██████████| 4.54k/4.54k [00:00<00:00, 19.8MB/s]"
     ]
    },
    {
     "name": "stdout",
     "output_type": "stream",
     "text": [
      "Extracting ./data/MNIST/raw/t10k-labels-idx1-ubyte.gz to ./data/MNIST/raw\n",
      "\n"
     ]
    },
    {
     "name": "stderr",
     "output_type": "stream",
     "text": [
      "\n"
     ]
    }
   ],
   "source": [
    "# MNIST dataset loading and preprocessing with train/validation split.\n",
    "\n",
    "# Define the standard MNIST transforms: to tensor and normalize.\n",
    "mnist_transforms = transforms.Compose([\n",
    "    transforms.ToTensor(),\n",
    "    transforms.Normalize((0.1307,), (0.3081,))\n",
    "])\n",
    "\n",
    "# Train/validation split ratio.\n",
    "train_ratio = 0.8\n",
    "val_ratio = 0.2\n",
    "\n",
    "# Load full training dataset (train=True) and test dataset (train=False).\n",
    "full_train_dataset = torchvision.datasets.MNIST(root=DATA_DIR, train=True, download=True, transform=mnist_transforms)\n",
    "test_dataset = torchvision.datasets.MNIST(root=DATA_DIR, train=False, download=True, transform=mnist_transforms)\n",
    "\n",
    "# Compute sizes for train and validation splits.\n",
    "train_size = int(train_ratio * len(full_train_dataset))\n",
    "val_size = len(full_train_dataset) - train_size\n",
    "\n",
    "# Split dataset into train and validation subsets.\n",
    "train_dataset, val_dataset = torch.utils.data.random_split(full_train_dataset, [train_size, val_size])\n",
    "\n",
    "# Create DataLoaders with shuffling for train and val, and also for test.\n",
    "train_loader = DataLoader(train_dataset, batch_size=BATCH_SIZE, shuffle=True, num_workers=NUM_WORKERS)\n",
    "val_loader = DataLoader(val_dataset, batch_size=BATCH_SIZE, shuffle=True, num_workers=NUM_WORKERS)\n",
    "test_loader = DataLoader(test_dataset, batch_size=BATCH_SIZE, shuffle=True, num_workers=NUM_WORKERS)\n"
   ]
  },
  {
   "cell_type": "markdown",
   "id": "07cbb999",
   "metadata": {},
   "source": [
    "## 🧠 MLP for MNIST\n",
    "\n",
    "### ✅ Explanation\n",
    "\n",
    "Instantiates a simple MLP with the following architecture:\n",
    "\n",
    "- **Input Layer**:  \n",
    "  `784` neurons — flattened `28 × 28` MNIST images.\n",
    "\n",
    "- **Hidden Layers**:  \n",
    "  - First hidden layer: `128` neurons  \n",
    "  - Second hidden layer: `64` neurons  \n",
    "  - Activation: **ReLU** after each hidden layer  \n",
    "  - **Batch Normalization** applied  \n",
    "  - **Dropout** with `p=0.2` for regularization\n",
    "\n",
    "- **Output Layer**:  \n",
    "  `10` neurons — one for each digit class (`0–9`)  \n",
    "  ❗ **No activation** on the final layer — outputs raw **logits**\n",
    "\n",
    "---\n",
    "\n",
    "### 🧠 Theory\n",
    "\n",
    "- **Dropout**: Reduces overfitting by randomly deactivating neurons during training.\n",
    "- **Batch Normalization**: Stabilizes and accelerates training by normalizing layer inputs.\n",
    "- **No final activation**: Because `CrossEntropyLoss` expects **raw logits**, not softmaxed probabilities.\n",
    "\n",
    "---\n",
    "\n",
    "### 💡 Summary\n",
    "\n",
    "```text\n",
    "Input (784) → [Linear → BatchNorm → ReLU → Dropout] → \n",
    "Hidden (128) → [Linear → BatchNorm → ReLU → Dropout] → \n",
    "Hidden (64) → Linear → Output (10 logits)\n"
   ]
  },
  {
   "cell_type": "markdown",
   "id": "e8dcaf9b",
   "metadata": {},
   "source": [
    "## ⚙️ Optimizer & Scheduler\n",
    "\n",
    "### ✅ Explanation\n",
    "\n",
    "- **Optimizer**:  \n",
    "  Adam with a learning rate of **1e-3**.\n",
    "\n",
    "- **Scheduler**:  \n",
    "  Reduces the learning rate by **50%** if the validation metric does not improve for **3 consecutive epochs** (`patience = 3`).  \n",
    "  Uses `mode='min'` to monitor a metric that should be minimized (typically validation loss).\n",
    "\n",
    "---\n",
    "\n",
    "### 🧠 Theory\n",
    "\n",
    "The `ReduceLROnPlateau` scheduler helps the model **escape plateaus** during training by lowering the learning rate when progress stalls, allowing for finer convergence.\n"
   ]
  },
  {
   "cell_type": "code",
   "execution_count": 15,
   "id": "90ca28c6",
   "metadata": {},
   "outputs": [
    {
     "name": "stderr",
     "output_type": "stream",
     "text": [
      "100%|██████████| 30/30 [00:34<00:00,  1.17s/it]"
     ]
    },
    {
     "name": "stdout",
     "output_type": "stream",
     "text": [
      "training time: 34.96\n"
     ]
    },
    {
     "name": "stderr",
     "output_type": "stream",
     "text": [
      "\n",
      "/home/marco/Desktop/University/DLA/Labs (1,2,3)/BaseTrainingPipeline.py:215: FutureWarning: You are using `torch.load` with `weights_only=False` (the current default value), which uses the default pickle module implicitly. It is possible to construct malicious pickle data which will execute arbitrary code during unpickling (See https://github.com/pytorch/pytorch/blob/main/SECURITY.md#untrusted-models for more details). In a future release, the default value for `weights_only` will be flipped to `True`. This limits the functions that could be executed during unpickling. Arbitrary objects will no longer be allowed to be loaded via this mode unless they are explicitly allowlisted by the user via `torch.serialization.add_safe_globals`. We recommend you start setting `weights_only=True` for any use case where you don't have full control of the loaded file. Please open an issue on GitHub for any issues related to this experimental feature.\n",
      "  states = torch.load(file_path, map_location = self.device)\n"
     ]
    },
    {
     "data": {
      "image/png": "[encoded data removed]",
      "text/plain": [
       "<Figure size 1000x1500 with 3 Axes>"
      ]
     },
     "metadata": {},
     "output_type": "display_data"
    },
    {
     "data": {
      "text/plain": [
       "(<Figure size 1000x1500 with 3 Axes>,\n",
       " array([<Axes: title={'center': 'loss'}, ylabel='loss'>,\n",
       "        <Axes: title={'center': 'accuracy'}, ylabel='accuracy'>,\n",
       "        <Axes: title={'center': 'lr'}, ylabel='lr'>], dtype=object))"
      ]
     },
     "execution_count": 15,
     "metadata": {},
     "output_type": "execute_result"
    }
   ],
   "source": [
    "# Define and train a simple MLP model on MNIST dataset.\n",
    "\n",
    "# Instantiate the MLP with 3 hidden layers, ReLU activations, batch norm, and dropout.\n",
    "mlp_model = MLP(\n",
    "    layer_sizes=[28*28, 128, 64, 10],\n",
    "    act_funcs=[nn.ReLU, nn.ReLU, None],\n",
    "    use_batch_norm=True,\n",
    "    dropouts=[0.2, 0.2, 0.0]\n",
    ")\n",
    "\n",
    "# Set optimizer and learning rate scheduler.\n",
    "optimizer = optim.Adam(mlp_model.parameters(), lr=LEARNING_RATE)\n",
    "lr_scheduler = optim.lr_scheduler.ReduceLROnPlateau(\n",
    "    optimizer,\n",
    "    mode='min',\n",
    "    factor=0.5,\n",
    "    patience=EARLY_STOPPING_PATIENCE\n",
    ")\n",
    "\n",
    "# Initialize the training pipeline.\n",
    "training_pipeline = SLTrainingPipeline(\n",
    "    model=mlp_model,\n",
    "    optimizer=optimizer,\n",
    "    lr_scheduler=lr_scheduler,\n",
    "    metrics=metrics,\n",
    "    device=device,\n",
    "    run_id='test_mlp_class',\n",
    "    checkpoint_dir=CHECKPOINTS_DIR,\n",
    "    log_dir=LOGS_DIR,\n",
    "    callbacks=gradient_callbacks\n",
    ")\n",
    "\n",
    "# Run the training.\n",
    "training_history = training_pipeline.fit(\n",
    "    epochs=NUM_EPOCHS,\n",
    "    train_loader=train_loader,\n",
    "    val_loader=val_loader,\n",
    "    verbose=False\n",
    ")\n",
    "\n",
    "# Load the best model checkpoint.\n",
    "training_pipeline.load()\n",
    "\n",
    "# Plot training metrics (loss, accuracy, etc.).\n",
    "training_pipeline.plot()\n"
   ]
  },
  {
   "cell_type": "markdown",
   "id": "0fb8ad9b-e3ae-4c49-9bec-35aaea149b08",
   "metadata": {},
   "source": [
    "### Exercise 1.2: Adding Residual Connections\n",
    "\n",
    "Implement a variant of your parameterized MLP network to support **residual** connections. Your network should be defined as a composition of **residual MLP** blocks that have one or more linear layers and add a skip connection from the block input to the output of the final linear layer.\n",
    "\n",
    "**Compare** the performance (in training/validation loss and test accuracy) of your MLP and ResidualMLP for a range of depths. Verify that deeper networks **with** residual connections are easier to train than a network of the same depth **without** residual connections.\n",
    "\n",
    "**For extra style points**: See if you can explain by analyzing the gradient magnitudes on a single training batch *why* this is the case. "
   ]
  },
  {
   "cell_type": "markdown",
   "id": "cd14ddae",
   "metadata": {},
   "source": [
    "## 🧩 Depth Competition: Standard MLP vs ResMLP on MNIST\n",
    "\n",
    "### ✅ What the code does\n",
    "\n",
    "- **Purpose**:  \n",
    "  Compares the performance of a **standard Multi-Layer Perceptron (MLP)** and a **Residual MLP (ResMLP)** with varying depths on the MNIST digit classification task.\n",
    "\n",
    "- **Depths tested**:  \n",
    "  `[4, 8, 16, 32]` layers.\n",
    "\n",
    "- **Model Setup**:  \n",
    "  - Input dimension is flattened MNIST images (28x28 = 784).  \n",
    "  - Hidden layers have fixed size `32`.  \n",
    "  - Output layer size is 10 (number of MNIST classes).  \n",
    "  - Sigmoid activations on all hidden layers except the last (which is linear).  \n",
    "  - Xavier uniform initialization to highlight potential vanishing gradients in deep networks.\n",
    "\n",
    "- **Training pipeline**:  \n",
    "  For each depth value:  \n",
    "  1. Create layer sizes list for input, hidden repeated `(depth - 1)` times, and output.  \n",
    "  2. Instantiate and train a standard MLP with the above specs.  \n",
    "  3. Instantiate and train a ResMLP with the same specs but **adds a skip connection** from layer 1 to layer `(depth - 2)` to help gradient flow.  \n",
    "  4. Use Adam optimizer with a learning rate scheduler (`ReduceLROnPlateau`) to reduce LR on validation metric plateau.  \n",
    "  5. Evaluate both models on test data and print results.\n",
    "\n",
    "---\n",
    "\n",
    "### 🔍 Why it’s done this way\n",
    "\n",
    "- **Depth variations** test how increasing network depth affects performance and training stability.\n",
    "\n",
    "- **Skip connections in ResMLP**:  \n",
    "  Help alleviate the **vanishing gradient problem** by providing a shortcut path for gradients during backpropagation, improving training in deeper nets.\n",
    "\n",
    "- **Sigmoid activations + Xavier init**:  \n",
    "  This combination is prone to vanishing gradients, making the benefit of skip connections more visible.\n",
    "\n",
    "- **ReduceLROnPlateau scheduler**:  \n",
    "  Automatically lowers the learning rate when training stalls, improving convergence and preventing getting stuck on plateaus.\n",
    "\n",
    "- **Separate training pipelines** for fair comparison and detailed logging for each depth/model variant.\n",
    "\n",
    "---\n",
    "\n",
    "### 🧠 Theoretical context\n",
    "\n",
    "- **Vanishing Gradients**:  \n",
    "  As networks get deeper, gradients may shrink exponentially, making learning ineffective. Skip connections create shorter paths for gradient flow, mitigating this.\n",
    "\n",
    "- **Residual Networks**:  \n",
    "  Inspired by ResNets, ResMLP applies similar skip connections to MLPs, demonstrating that residual connections benefit not only CNNs but also fully connected nets.\n",
    "\n",
    "- **Training Dynamics**:  \n",
    "  Monitoring validation metrics with LR scheduling and early stopping prevents overfitting and encourages robust learning.\n",
    "\n",
    "---\n",
    "\n",
    "*This setup is ideal to empirically show how skip connections improve training of deeper MLPs on image classification tasks like MNIST.*\n"
   ]
  },
  {
   "cell_type": "code",
   "execution_count": 16,
   "id": "e7e8181b",
   "metadata": {},
   "outputs": [
    {
     "name": "stderr",
     "output_type": "stream",
     "text": [
      "100%|██████████| 30/30 [00:33<00:00,  1.12s/it]\n"
     ]
    },
    {
     "name": "stdout",
     "output_type": "stream",
     "text": [
      "training time: 33.67\n"
     ]
    },
    {
     "name": "stderr",
     "output_type": "stream",
     "text": [
      "                                                \r"
     ]
    },
    {
     "name": "stdout",
     "output_type": "stream",
     "text": [
      "test_loss: 0.1642\n",
      "test_accuracy: 0.9554\n"
     ]
    },
    {
     "name": "stderr",
     "output_type": "stream",
     "text": [
      "100%|██████████| 30/30 [00:34<00:00,  1.15s/it]\n"
     ]
    },
    {
     "name": "stdout",
     "output_type": "stream",
     "text": [
      "training time: 34.41\n"
     ]
    },
    {
     "name": "stderr",
     "output_type": "stream",
     "text": [
      "                                                \r"
     ]
    },
    {
     "name": "stdout",
     "output_type": "stream",
     "text": [
      "test_loss: 0.1380\n",
      "test_accuracy: 0.9604\n"
     ]
    },
    {
     "name": "stderr",
     "output_type": "stream",
     "text": [
      "100%|██████████| 30/30 [00:44<00:00,  1.49s/it]\n"
     ]
    },
    {
     "name": "stdout",
     "output_type": "stream",
     "text": [
      "training time: 44.73\n"
     ]
    },
    {
     "name": "stderr",
     "output_type": "stream",
     "text": [
      "                                                \r"
     ]
    },
    {
     "name": "stdout",
     "output_type": "stream",
     "text": [
      "test_loss: 0.6420\n",
      "test_accuracy: 0.8308\n"
     ]
    },
    {
     "name": "stderr",
     "output_type": "stream",
     "text": [
      "100%|██████████| 30/30 [00:44<00:00,  1.47s/it]\n"
     ]
    },
    {
     "name": "stdout",
     "output_type": "stream",
     "text": [
      "training time: 44.24\n"
     ]
    },
    {
     "name": "stderr",
     "output_type": "stream",
     "text": [
      "                                                \r"
     ]
    },
    {
     "name": "stdout",
     "output_type": "stream",
     "text": [
      "test_loss: 0.1577\n",
      "test_accuracy: 0.9555\n"
     ]
    },
    {
     "name": "stderr",
     "output_type": "stream",
     "text": [
      "100%|██████████| 30/30 [01:04<00:00,  2.16s/it]\n"
     ]
    },
    {
     "name": "stdout",
     "output_type": "stream",
     "text": [
      "training time: 64.87\n"
     ]
    },
    {
     "name": "stderr",
     "output_type": "stream",
     "text": [
      "                                                \r"
     ]
    },
    {
     "name": "stdout",
     "output_type": "stream",
     "text": [
      "test_loss: 1.0298\n",
      "test_accuracy: 0.6269\n"
     ]
    },
    {
     "name": "stderr",
     "output_type": "stream",
     "text": [
      "100%|██████████| 30/30 [01:05<00:00,  2.18s/it]\n"
     ]
    },
    {
     "name": "stdout",
     "output_type": "stream",
     "text": [
      "training time: 65.28\n"
     ]
    },
    {
     "name": "stderr",
     "output_type": "stream",
     "text": [
      "                                                \r"
     ]
    },
    {
     "name": "stdout",
     "output_type": "stream",
     "text": [
      "test_loss: 0.1441\n",
      "test_accuracy: 0.9550\n"
     ]
    },
    {
     "name": "stderr",
     "output_type": "stream",
     "text": [
      "100%|██████████| 30/30 [01:44<00:00,  3.48s/it]\n"
     ]
    },
    {
     "name": "stdout",
     "output_type": "stream",
     "text": [
      "training time: 104.44\n"
     ]
    },
    {
     "name": "stderr",
     "output_type": "stream",
     "text": [
      "                                                \r"
     ]
    },
    {
     "name": "stdout",
     "output_type": "stream",
     "text": [
      "test_loss: 2.3010\n",
      "test_accuracy: 0.1135\n"
     ]
    },
    {
     "name": "stderr",
     "output_type": "stream",
     "text": [
      "100%|██████████| 30/30 [01:44<00:00,  3.49s/it]\n"
     ]
    },
    {
     "name": "stdout",
     "output_type": "stream",
     "text": [
      "training time: 104.67\n"
     ]
    },
    {
     "name": "stderr",
     "output_type": "stream",
     "text": [
      "                                                "
     ]
    },
    {
     "name": "stdout",
     "output_type": "stream",
     "text": [
      "test_loss: 0.1368\n",
      "test_accuracy: 0.9599\n"
     ]
    },
    {
     "name": "stderr",
     "output_type": "stream",
     "text": [
      "\r"
     ]
    }
   ],
   "source": [
    "# Depth competition: comparing standard MLP and ResMLP with varying depths on MNIST.\n",
    "# ResMLP uses skip connections to alleviate vanishing gradients in deeper nets.\n",
    "\n",
    "depth_values = [4, 8, 16, 32]\n",
    "hidden_dim = 32\n",
    "input_dim = 28 * 28\n",
    "output_dim = 10\n",
    "\n",
    "for depth in depth_values:\n",
    "    # Define layer sizes: input, hidden repeated (depth-1) times, output.\n",
    "    layers = [input_dim] + [hidden_dim] * (depth - 1) + [output_dim]\n",
    "    # Activation functions: sigmoid for all but last (which has no activation).\n",
    "    activations = [nn.Sigmoid] * (depth - 2)\n",
    "    init_function = nn.init.xavier_uniform_  # Xavier init to highlight vanishing gradients.\n",
    "\n",
    "    # Instantiate standard MLP.\n",
    "    mlp_model = MLP(\n",
    "        layer_sizes=layers,\n",
    "        act_funcs=activations,\n",
    "        init_funcs=init_function\n",
    "    )\n",
    "\n",
    "    optimizer = optim.Adam(mlp_model.parameters(), lr=LEARNING_RATE)\n",
    "    lr_scheduler = optim.lr_scheduler.ReduceLROnPlateau(\n",
    "        optimizer,\n",
    "        mode='min',\n",
    "        factor=0.5,\n",
    "        patience=EARLY_STOPPING_PATIENCE\n",
    "    )\n",
    "\n",
    "    mlp_pipeline = SLTrainingPipeline(\n",
    "        model=mlp_model,\n",
    "        optimizer=optimizer,\n",
    "        lr_scheduler=lr_scheduler,\n",
    "        metrics=metrics,\n",
    "        device=device,\n",
    "        run_id=f'mlp_gradient_depth_{depth}',\n",
    "        log_dir=LOGS_DIR,\n",
    "        callbacks=gradient_callbacks\n",
    "    )\n",
    "\n",
    "    mlp_pipeline.fit(\n",
    "        epochs=NUM_EPOCHS,\n",
    "        train_loader=train_loader,\n",
    "        val_loader=val_loader,\n",
    "        verbose=False\n",
    "    )\n",
    "\n",
    "    mlp_results = mlp_pipeline.evaluate(test_loader, verbose=True)\n",
    "\n",
    "    # Instantiate ResMLP with skip connection from layer 1 to layer (depth-2).\n",
    "    resmlp_model = ResMLP(\n",
    "        layer_sizes=layers,\n",
    "        act_funcs=activations,\n",
    "        init_funcs=init_function,\n",
    "        skip_connections=[(1, depth - 2)]\n",
    "    )\n",
    "\n",
    "    optimizer = optim.Adam(resmlp_model.parameters(), lr=LEARNING_RATE)\n",
    "    lr_scheduler = optim.lr_scheduler.ReduceLROnPlateau(\n",
    "        optimizer,\n",
    "        mode='min',\n",
    "        factor=0.5,\n",
    "        patience=EARLY_STOPPING_PATIENCE\n",
    "    )\n",
    "\n",
    "    resmlp_pipeline = SLTrainingPipeline(\n",
    "        model=resmlp_model,\n",
    "        optimizer=optimizer,\n",
    "        lr_scheduler=lr_scheduler,\n",
    "        metrics=metrics,\n",
    "        device=device,\n",
    "        run_id=f'resmlp_gradient_depth_{depth}',\n",
    "        log_dir=LOGS_DIR,\n",
    "        callbacks=gradient_callbacks\n",
    "    )\n",
    "\n",
    "    resmlp_pipeline.fit(\n",
    "        epochs=NUM_EPOCHS,\n",
    "        train_loader=train_loader,\n",
    "        val_loader=val_loader,\n",
    "        verbose=False\n",
    "    )\n",
    "\n",
    "    resmlp_results = resmlp_pipeline.evaluate(test_loader, verbose=True)\n"
   ]
  },
  {
   "cell_type": "markdown",
   "id": "3c59bdd8-3377-4311-b45f-511c2fb0b53e",
   "metadata": {},
   "source": [
    "### Exercise 1.3: Rinse and Repeat (but with a CNN)\n",
    "\n",
    "Repeat the verification you did above, but with **Convolutional** Neural Networks. If you were careful about abstracting your model and training code, this should be a simple exercise. Show that **deeper** CNNs *without* residual connections do not always work better and **even deeper** ones *with* residual connections.\n",
    "\n",
    "**Hint**: You probably should do this exercise using CIFAR-10, since MNIST is *very* easy (at least up to about 99% accuracy).\n",
    "\n",
    "**Tip**: Feel free to reuse the ResNet building blocks defined in `torchvision.models.resnet` (e.g. [BasicBlock](https://github.com/pytorch/vision/blob/main/torchvision/models/resnet.py#L59) which handles the cascade of 3x3 convolutions, skip connections, and optional downsampling). This is an excellent exercise in code diving. \n",
    "\n",
    "**Spoiler**: Depending on the optional exercises you plan to do below, you should think *very* carefully about the architectures of your CNNs here (so you can reuse them!)."
   ]
  },
  {
   "cell_type": "markdown",
   "id": "6ba706ae",
   "metadata": {},
   "source": [
    "## 📦 CIFAR-10 Dataset Loading and Preprocessing with Augmentation\n",
    "\n",
    "\n",
    "- **Data augmentation pipeline (`cifar_transform`)**:  \n",
    "  Applies a series of transformations to the CIFAR-10 images during loading:  \n",
    "  - `RandomHorizontalFlip()`: randomly flips images horizontally to augment data diversity.  \n",
    "  - `RandomCrop(32, padding=4)`: randomly crops 32x32 patches from images padded by 4 pixels on each side, adding spatial variability.  \n",
    "  - `ToTensor()`: converts PIL images to PyTorch tensors (values scaled to [0,1]).  \n",
    "  - `Normalize(mean, std)`: normalizes each channel using dataset-specific mean and std values to center data distribution.\n",
    "\n",
    "- **Dataset Loading**:  \n",
    "  - Downloads CIFAR-10 training and test sets.  \n",
    "  - Applies the above augmentation only on training/validation data (via `transform=cifar_transform`).  \n",
    "  - Uses the same transform on test set here, but often test transforms exclude augmentation for fair evaluation.\n",
    "\n",
    "- **Train/Validation split**:  \n",
    "  - Splits the original training set (50,000 images) into 80% training and 20% validation subsets using `random_split`.\n",
    "\n",
    "- **DataLoaders**:  \n",
    "  - Creates PyTorch `DataLoader` objects for training, validation, and test sets.  \n",
    "  - Note: `shuffle=False` on training loader here (likely for a specific experimental reason, e.g. reproducibility or consistent batch order).  \n",
    "  - Validation and test loaders shuffle the data.\n",
    "\n",
    "---\n",
    "\n",
    "*This code is the standard practice to prepare CIFAR-10 data with basic augmentation and splitting for training robust image classifiers.*\n"
   ]
  },
  {
   "cell_type": "code",
   "execution_count": 17,
   "id": "5e2c2e71",
   "metadata": {},
   "outputs": [
    {
     "name": "stdout",
     "output_type": "stream",
     "text": [
      "Downloading https://www.cs.toronto.edu/~kriz/cifar-10-python.tar.gz to ./data/cifar-10-python.tar.gz\n"
     ]
    },
    {
     "name": "stderr",
     "output_type": "stream",
     "text": [
      "100%|██████████| 170M/170M [00:14<00:00, 11.4MB/s] \n"
     ]
    },
    {
     "name": "stdout",
     "output_type": "stream",
     "text": [
      "Extracting ./data/cifar-10-python.tar.gz to ./data\n",
      "Files already downloaded and verified\n"
     ]
    }
   ],
   "source": [
    "# CIFAR10 dataset loading and preprocessing with augmentation\n",
    "\n",
    "cifar_transform = transforms.Compose([\n",
    "    transforms.RandomHorizontalFlip(),\n",
    "    transforms.RandomCrop(32, padding=4),\n",
    "    transforms.ToTensor(),\n",
    "    transforms.Normalize((0.4914, 0.4822, 0.4465), (0.247, 0.243, 0.261))\n",
    "])\n",
    "\n",
    "split_ratio = [0.8, 0.2]  # train/val split\n",
    "\n",
    "cifar_train_val_dataset = torchvision.datasets.CIFAR10(root=DATA_DIR, train=True, download=True, transform=cifar_transform)\n",
    "cifar_test_dataset = torchvision.datasets.CIFAR10(root=DATA_DIR, train=False, download=True, transform=cifar_transform)\n",
    "\n",
    "train_len = int(split_ratio[0] / sum(split_ratio) * len(cifar_train_val_dataset))\n",
    "val_len = len(cifar_train_val_dataset) - train_len\n",
    "\n",
    "cifar_train_dataset, cifar_val_dataset = torch.utils.data.random_split(cifar_train_val_dataset, [train_len, val_len])\n",
    "\n",
    "train_loader = DataLoader(cifar_train_dataset, batch_size=BATCH_SIZE, shuffle=False, num_workers=NUM_WORKERS)  # shuffle=False per es. 2.2\n",
    "val_loader = DataLoader(cifar_val_dataset, batch_size=BATCH_SIZE, shuffle=True, num_workers=NUM_WORKERS)\n",
    "test_loader = DataLoader(cifar_test_dataset, batch_size=BATCH_SIZE, shuffle=True, num_workers=NUM_WORKERS)\n"
   ]
  },
  {
   "cell_type": "markdown",
   "id": "f67bfaef",
   "metadata": {},
   "source": [
    "## 🏗️ Building and Training CNN vs ResCNN with Varying Depths on CIFAR-10\n",
    "\n",
    "### ✅ What the code does\n",
    "\n",
    "- **Setup:**  \n",
    "  - `input_shape = (3, 32, 32)` for CIFAR-10 RGB images.  \n",
    "  - `output_size = 10` classes.  \n",
    "  - Defines three CNN depths: `[6, 12, 20]` convolutional layers.  \n",
    "  - Calculates how many max-pooling layers to add based on input spatial size (`max_pool_layers`).\n",
    "\n",
    "- **Architecture building:**  \n",
    "  For each depth `d`:  \n",
    "  - Divides `d` conv layers evenly across `max_pool_layers` blocks.  \n",
    "  - Each block outputs feature maps with channels increasing as `[64, 128, 256, 512]`.  \n",
    "  - Last conv layer in each block applies `MaxPool2d(kernel=2, stride=2)` for downsampling.  \n",
    "  - Each conv layer uses 3x3 kernels, stride 1, padding 1, batch normalization, and ReLU activation.\n",
    "\n",
    "- **MLP tail:**  \n",
    "  After convolutional feature extraction, an MLP with a hidden layer (512 units, ReLU + dropout 0.5) maps features to final 10-class output.\n",
    "\n",
    "- **Model variants:**  \n",
    "  - **Standard CNN** with the defined architecture.  \n",
    "  - **Residual CNN (ResCNN)** adding skip connections to improve gradient flow and performance.\n",
    "\n",
    "- **Training pipeline:**  \n",
    "  For each model (CNN and ResCNN):  \n",
    "  - Adam optimizer with a learning rate scheduler that reduces LR on validation metric plateaus.  \n",
    "  - Trains on training data, validates on validation set, for `NUM_EPOCHS`.  \n",
    "  - Each training run is logged with unique `run_id` reflecting depth and model type.\n",
    "\n",
    "---\n",
    "\n",
    "### 🔍 Why it’s done this way\n",
    "\n",
    "- **Variable depth experiments:**  \n",
    "  To observe how increasing convolutional layers affects learning capacity and performance.\n",
    "\n",
    "- **Block-wise design with pooling:**  \n",
    "  Mimics standard CNN architectures where spatial dimensions reduce progressively, and channels increase to capture more complex features.\n",
    "\n",
    "- **BatchNorm + ReLU:**  \n",
    "  Batch normalization stabilizes training and accelerates convergence; ReLU activation helps mitigate vanishing gradients.\n",
    "\n",
    "- **MLP tail:**  \n",
    "  Bridges convolutional features to classification output with nonlinear mapping and regularization (dropout).\n",
    "\n",
    "- **Residual connections (ResCNN):**  \n",
    "  Help combat vanishing gradients in deep CNNs, enabling easier training of deeper networks by shortcutting gradient flow.\n",
    "\n",
    "- **Learning rate scheduler:**  \n",
    "  Automatically reduces LR if validation loss stops improving, encouraging better convergence.\n",
    "\n",
    "---\n",
    "\n",
    "### 🧠 Theoretical context\n",
    "\n",
    "- **Deep CNNs** can extract hierarchical representations, but training very deep nets is challenging without skip connections.\n",
    "\n",
    "- **Residual learning** enables identity mappings to ease optimization, shown famously in ResNet architectures.\n",
    "\n",
    "- **Max pooling** down-samples feature maps to reduce spatial size, increasing receptive field and reducing computational load.\n",
    "\n",
    "- **Batch normalization** normalizes intermediate layer outputs, reducing internal covariate shift.\n",
    "\n",
    "---\n",
    "\n",
    "*This experiment sets up a controlled comparison between classical CNNs and residual CNNs with increasing depth, showcasing the importance of architectural innovations to train deeper models effectively on CIFAR-10.*\n"
   ]
  },
  {
   "cell_type": "code",
   "execution_count": 18,
   "id": "d2f16ef7",
   "metadata": {},
   "outputs": [
    {
     "name": "stderr",
     "output_type": "stream",
     "text": [
      "100%|██████████| 30/30 [01:38<00:00,  3.29s/it]\n"
     ]
    },
    {
     "name": "stdout",
     "output_type": "stream",
     "text": [
      "training time: 98.73\n"
     ]
    },
    {
     "name": "stderr",
     "output_type": "stream",
     "text": [
      "100%|██████████| 30/30 [03:28<00:00,  6.96s/it]\n"
     ]
    },
    {
     "name": "stdout",
     "output_type": "stream",
     "text": [
      "training time: 208.89\n"
     ]
    },
    {
     "name": "stderr",
     "output_type": "stream",
     "text": [
      "100%|██████████| 30/30 [03:10<00:00,  6.35s/it]\n"
     ]
    },
    {
     "name": "stdout",
     "output_type": "stream",
     "text": [
      "training time: 190.62\n"
     ]
    },
    {
     "name": "stderr",
     "output_type": "stream",
     "text": [
      "100%|██████████| 30/30 [06:45<00:00, 13.51s/it]\n"
     ]
    },
    {
     "name": "stdout",
     "output_type": "stream",
     "text": [
      "training time: 405.28\n"
     ]
    },
    {
     "name": "stderr",
     "output_type": "stream",
     "text": [
      "100%|██████████| 30/30 [05:12<00:00, 10.40s/it]\n"
     ]
    },
    {
     "name": "stdout",
     "output_type": "stream",
     "text": [
      "training time: 312.09\n"
     ]
    },
    {
     "name": "stderr",
     "output_type": "stream",
     "text": [
      "100%|██████████| 30/30 [10:44<00:00, 21.50s/it]"
     ]
    },
    {
     "name": "stdout",
     "output_type": "stream",
     "text": [
      "training time: 644.97\n"
     ]
    },
    {
     "name": "stderr",
     "output_type": "stream",
     "text": [
      "\n"
     ]
    }
   ],
   "source": [
    "import math\n",
    "import torch.optim as optim\n",
    "import torch.nn as nn\n",
    "\n",
    "input_shape = (3, 32, 32)\n",
    "output_size = 10\n",
    "\n",
    "depths = [6, 12, 20]  # Number of convolutional layers\n",
    "max_pool_layers = int(math.log(min(input_shape[1], input_shape[2]), 2) - 2)  # Number of max pooling layers\n",
    "chan_per_block = [64, 128, 256, 512]\n",
    "\n",
    "def build_mlp_tail(cnn_output_size, output_size=10, hidden_dim=512):\n",
    "    return MLP(\n",
    "        layer_sizes=[cnn_output_size, hidden_dim, output_size],\n",
    "        act_funcs=[nn.ReLU, None],  # ReLU should suffer less from vanishing gradients\n",
    "        dropouts=[0.5, 0.0],\n",
    "        use_bias=True\n",
    "    )\n",
    "\n",
    "for i, d in enumerate(depths):\n",
    "    architecture = []\n",
    "\n",
    "    for block in range(max_pool_layers):\n",
    "        # Distribute conv layers evenly among blocks\n",
    "        num_conv = d // max_pool_layers if block != max_pool_layers - 1 else d - (max_pool_layers - 1) * (d // max_pool_layers)\n",
    "        out_chan = chan_per_block[block]\n",
    "\n",
    "        for conv in range(num_conv):\n",
    "            layer_config = {\n",
    "                \"out_channels\": out_chan,\n",
    "                \"kernel\": 3,\n",
    "                \"stride\": 1,\n",
    "                \"padding\": 1,\n",
    "                \"use_batch_norm\": True,\n",
    "                \"act_func\": nn.ReLU\n",
    "            }\n",
    "\n",
    "            if conv == num_conv - 1:\n",
    "                layer_config[\"pool\"] = nn.MaxPool2d\n",
    "                layer_config[\"pool_kernel\"] = 2\n",
    "                layer_config[\"pool_stride\"] = 2\n",
    "                layer_config[\"pool_padding\"] = 0\n",
    "\n",
    "            architecture.append(layer_config)\n",
    "\n",
    "    # Standard CNN\n",
    "    cnn = CNN(input_shape, architecture)\n",
    "    cnn_output_size = cnn.get_output_size()\n",
    "\n",
    "    mlp_tail_cnn = build_mlp_tail(cnn_output_size, output_size=output_size)\n",
    "    cnn.attach_mlp(mlp_tail_cnn)\n",
    "\n",
    "    optimizer_cnn = optim.Adam(cnn.parameters(), lr=LEARNING_RATE)\n",
    "    scheduler_cnn = optim.lr_scheduler.ReduceLROnPlateau(optimizer_cnn, mode='min', factor=0.5, patience=EARLY_STOPPING_PATIENCE)\n",
    "\n",
    "    pipeline_cnn = SLTrainingPipeline(\n",
    "        model=cnn,\n",
    "        optimizer=optimizer_cnn,\n",
    "        lr_scheduler=scheduler_cnn,\n",
    "        metrics=metrics,\n",
    "        device=device,\n",
    "        run_id=f'cnn_{d}convs',\n",
    "        log_dir=LOGS_DIR,\n",
    "    )\n",
    "\n",
    "    history_cnn = pipeline_cnn.fit(\n",
    "        epochs=NUM_EPOCHS,\n",
    "        train_loader=train_loader,\n",
    "        val_loader=val_loader,\n",
    "        verbose=False\n",
    "    )\n",
    "\n",
    "    # ResCNN with skip connections\n",
    "    rescnn = ResCNN(input_shape, architecture)\n",
    "    rescnn_output_size = rescnn.get_output_size()\n",
    "\n",
    "    mlp_tail_rescnn = build_mlp_tail(rescnn_output_size, output_size=output_size)\n",
    "    rescnn.attach_mlp(mlp_tail_rescnn)\n",
    "\n",
    "    optimizer_rescnn = optim.Adam(rescnn.parameters(), lr=LEARNING_RATE)\n",
    "    scheduler_rescnn = optim.lr_scheduler.ReduceLROnPlateau(optimizer_rescnn, mode='min', factor=0.5, patience=EARLY_STOPPING_PATIENCE)\n",
    "\n",
    "    pipeline_rescnn = SLTrainingPipeline(\n",
    "        model=rescnn,\n",
    "        optimizer=optimizer_rescnn,\n",
    "        lr_scheduler=scheduler_rescnn,\n",
    "        metrics=metrics,\n",
    "        device=device,\n",
    "        run_id=f'rescnn_{d}convs',\n",
    "        log_dir=LOGS_DIR,\n",
    "    )\n",
    "\n",
    "    history_rescnn = pipeline_rescnn.fit(\n",
    "        epochs=NUM_EPOCHS,\n",
    "        train_loader=train_loader,\n",
    "        val_loader=val_loader,\n",
    "        verbose=False\n",
    "    )\n"
   ]
  },
  {
   "cell_type": "markdown",
   "id": "ef4de2f2-abc5-4f98-9eaf-3497f734a022",
   "metadata": {},
   "source": [
    "-----\n",
    "## Exercise 2: Choose at Least One\n",
    "\n",
    "Below are **three** exercises that ask you to deepen your understanding of Deep Networks for visual recognition. You must choose **at least one** of the below for your final submission -- feel free to do **more**, but at least **ONE** you must submit. Each exercise is designed to require you to dig your hands **deep** into the guts of your models in order to do new and interesting things.\n",
    "\n",
    "**Note**: These exercises are designed to use your small, custom CNNs and small datasets. This is to keep training times reasonable. If you have a decent GPU, feel free to use pretrained ResNets and larger datasets (e.g. the [Imagenette](https://pytorch.org/vision/0.20/generated/torchvision.datasets.Imagenette.html#torchvision.datasets.Imagenette) dataset at 160px)."
   ]
  },
  {
   "cell_type": "markdown",
   "id": "07978e8e-9f2e-4949-9699-495af6cb6349",
   "metadata": {},
   "source": [
    "### Exercise 2.1: *Fine-tune* a pre-trained model\n",
    "Train one of your residual CNN models from Exercise 1.3 on CIFAR-10. Then:\n",
    "1. Use the pre-trained model as a **feature extractor** (i.e. to extract the feature activations of the layer input into the classifier) on CIFAR-100. Use a **classical** approach (e.g. Linear SVM, K-Nearest Neighbor, or Bayesian Generative Classifier) from scikit-learn to establish a **stable baseline** performance on CIFAR-100 using the features extracted using your CNN.\n",
    "2. Fine-tune your CNN on the CIFAR-100 training set and compare with your stable baseline. Experiment with different strategies:\n",
    "    - Unfreeze some of the earlier layers for fine-tuning.\n",
    "    - Test different optimizers (Adam, SGD, etc.).\n",
    "\n",
    "Each of these steps will require you to modify your model definition in some way. For 1, you will need to return the activations of the last fully-connected layer (or the global average pooling layer). For 2, you will need to replace the original, 10-class classifier with a new, randomly-initialized 100-class classifier."
   ]
  },
  {
   "cell_type": "code",
   "execution_count": 19,
   "id": "469e81a3-08ca-4549-a2f8-f47cf5a0308b",
   "metadata": {
    "tags": []
   },
   "outputs": [],
   "source": [
    "# Your code here."
   ]
  },
  {
   "cell_type": "markdown",
   "id": "440a3a7b-2ed6-4f58-a1b7-5ab1fc432893",
   "metadata": {},
   "source": [
    "### Exercise 2.2: *Distill* the knowledge from a large model into a smaller one\n",
    "In this exercise you will see if you can derive a *small* model that performs comparably to a larger one on CIFAR-10. To do this, you will use [Knowledge Distillation](https://arxiv.org/abs/1503.02531):\n",
    "\n",
    "> Geoffrey Hinton, Oriol Vinyals, and Jeff Dean. Distilling the Knowledge in a Neural Network, NeurIPS 2015.\n",
    "\n",
    "To do this:\n",
    "1. Train one of your best-performing CNNs on CIFAR-10 from Exercise 1.3 above. This will be your **teacher** model.\n",
    "2. Define a *smaller* variant with about half the number of parameters (change the width and/or depth of the network). Train it on CIFAR-10 and verify that it performs *worse* than your **teacher**. This small network will be your **student** model.\n",
    "3. Train the **student** using a combination of **hard labels** from the CIFAR-10 training set (cross entropy loss) and **soft labels** from predictions of the **teacher** (Kulback-Leibler loss between teacher and student).\n",
    "\n",
    "Try to optimize training parameters in order to maximize the performance of the student. It should at least outperform the student trained only on hard labels in Setp 2.\n",
    "\n",
    "**Tip**: You can save the predictions of the trained teacher network on the training set and adapt your dataloader to provide them together with hard labels. This will **greatly** speed up training compared to performing a forward pass through the teacher for each batch of training."
   ]
  },
  {
   "cell_type": "markdown",
   "id": "5b02441c",
   "metadata": {},
   "source": [
    "## 🔄 Callbacks to Save Soft Labels (Logits) During Teacher Model Evaluation\n",
    "\n",
    "### ✅ What the code does\n",
    "\n",
    "- **Purpose:**  \n",
    "  Saves the **logits** (raw output scores before softmax) produced by a teacher model on the **training set** during evaluation mode—without updating gradients.\n",
    "\n",
    "- **Why during evaluation?**  \n",
    "  - Although logits can be obtained during training, saving them during **evaluation** is simpler and safer, since no gradients are computed or updated.  \n",
    "  - The training dataset is passed through the model in evaluation mode just to extract and save logits (soft labels).  \n",
    "  - This setup is easier to integrate with the training pipeline class.\n",
    "\n",
    "- **Callbacks:**\n",
    "\n",
    "  1. `activate_logits_saving`:  \n",
    "     - Triggered at the start of evaluation (`on_eval_begin`).  \n",
    "     - Sets a flag `save_logits = True` and initializes an empty list `soft_labels` to store logits.\n",
    "\n",
    "  2. `save_logits`:  \n",
    "     - Called at the end of every batch (`on_batch_end`).  \n",
    "     - Checks if it is **not training** mode (`is_training=False`) and `save_logits` flag is active.  \n",
    "     - Retrieves the batch logits from context and appends their detached CPU copy to the `soft_labels` list to avoid affecting computation graph or device memory.\n",
    "\n",
    "- **Callbacks dictionary:**  \n",
    "  Hooks these functions into the training pipeline’s event system.\n",
    "\n",
    "---\n",
    "\n",
    "### 🔍 Why it’s done this way\n",
    "\n",
    "- **Separate logits saving from training:**  \n",
    "  Avoids interfering with training computations and gradient updates.\n",
    "\n",
    "- **Detaching logits and moving to CPU:**  \n",
    "  Saves memory and ensures logits are stored safely outside the computation graph, preventing unintended backpropagation or memory leaks.\n",
    "\n",
    "- **Use of callbacks and pipeline flags:**  \n",
    "  Cleanly integrates with the existing pipeline architecture for modularity and ease of reuse.\n",
    "\n",
    "---\n",
    "\n",
    "### 🧠 Theoretical context\n",
    "\n",
    "- **Soft labels (teacher logits)** are useful for knowledge distillation, where a student model learns from the teacher’s output distribution rather than hard labels.\n",
    "\n",
    "- **Evaluation mode** disables dropout and batch norm updates, producing stable outputs for saving logits.\n",
    "\n",
    "- **Detaching tensors** prevents gradients from flowing backward and frees GPU memory, essential during large dataset evaluations.\n",
    "\n",
    "---\n",
    "\n",
    "*This pattern efficiently collects soft labels from a teacher model for distillation or analysis without disrupting the training process.*\n"
   ]
  },
  {
   "cell_type": "code",
   "execution_count": 20,
   "id": "3e11311b",
   "metadata": {},
   "outputs": [],
   "source": [
    "\n",
    "# This allows us to collect soft labels for further analysis or distillation.\n",
    "\n",
    "def activate_logits_saving(pipeline, **context):\n",
    "    pipeline.callbacks_data[\"save_logits\"] = True\n",
    "    pipeline.callbacks_data[\"soft_labels\"] = []\n",
    "\n",
    "\n",
    "def save_logits(pipeline, **context):\n",
    "    if context.get(\"is_training\", True):\n",
    "        return\n",
    "        \n",
    "    if not pipeline.callbacks_data.get(\"save_logits\", False):\n",
    "        return\n",
    "\n",
    "    logits = context.get(\"logits\")\n",
    "    \n",
    "    if logits is not None:\n",
    "        pipeline.callbacks_data[\"soft_labels\"].append(logits.detach().cpu())\n",
    "\n",
    "callbacks = {\n",
    "    \"on_eval_begin\": [activate_logits_saving],\n",
    "    \"on_batch_end\": [save_logits]\n",
    "}"
   ]
  },
  {
   "cell_type": "markdown",
   "id": "a1acd51c",
   "metadata": {},
   "source": [
    "## 🏗️ ResNet-34 Teacher Model for Soft Label Generation\n",
    "\n",
    "### ✅ What the code does\n",
    "\n",
    "- **ResNet-34 architecture setup:**  \n",
    "  - Builds a residual network with `depth=34` layers, structured into 4 stages with blocks per stage: `[3, 4, 6, 3]`.  \n",
    "  - Each stage outputs feature maps with increasing channels: `[64, 128, 256, 512]`.  \n",
    "  - The first block of each stage (except the first stage) downsamples spatially by setting `stride=2`.  \n",
    "  - Each block configured with no dropout and no pooling (pooling is implicit in strides).\n",
    "\n",
    "- **Model instantiation:**  \n",
    "  - Creates a `ResCNN` model with the defined residual layers, using `BasicBlock` residual units and batch normalization (`nn.BatchNorm2d`).  \n",
    "  - Input shape is `(3, 32, 32)` (CIFAR-10 images).\n",
    "\n",
    "- **MLP head (tail):**  \n",
    "  - Maps the CNN output to classification logits via a two-layer MLP:  \n",
    "    - Hidden layer: 512 units with ReLU and dropout 0.5.  \n",
    "    - Output layer: 10 units (number of classes), **no activation** specified here (comment suggests softmax could be added, but typically left out because loss functions like `CrossEntropyLoss` apply it internally).\n",
    "\n",
    "- **Optimizer and scheduler:**  \n",
    "  - Adam optimizer with learning rate scheduler reducing LR on plateau of validation loss.\n",
    "\n",
    "- **Training pipeline:**  \n",
    "  - Uses `SLTrainingPipeline` with model, optimizer, scheduler, metrics, device, and callback hooks (including soft labels saving callbacks).  \n",
    "  - Runs training for `NUM_EPOCHS`.  \n",
    "  - Logs are saved and checkpoints handled.\n",
    "\n",
    "- **Post-training steps:**  \n",
    "  - Plots training history.  \n",
    "  - Calls `evaluate` **on the training loader** in evaluation mode specifically to compute and save **soft labels (logits)** for the training set (used later for knowledge distillation).  \n",
    "  - Extracts stored soft labels from the pipeline callback data.\n",
    "\n",
    "---\n",
    "\n",
    "### 🔍 Why it’s done this way\n",
    "\n",
    "- **ResNet-34 teacher model:**  \n",
    "  Standard deep residual network to provide strong teacher predictions for distillation.\n",
    "\n",
    "- **Stride-based downsampling:**  \n",
    "  Replaces explicit pooling with strided convolutions in first block of stages to reduce spatial dimension.\n",
    "\n",
    "- **MLP tail design:**  \n",
    "  Common practice to flatten convolutional features and project to output classes via fully connected layers.\n",
    "\n",
    "- **Softmax activation omitted in final layer:**  \n",
    "  Typically, loss functions (like cross-entropy) combine softmax internally; outputs are raw logits.\n",
    "\n",
    "- **Evaluating on training set for logits saving:**  \n",
    "  Runs the model in eval mode on training data to get stable logits for soft label distillation without affecting model weights.\n",
    "\n",
    "---\n",
    "\n",
    "### 🧠 Theoretical context\n",
    "\n",
    "- **Residual blocks and skip connections** enable effective training of very deep networks by mitigating vanishing gradients.\n",
    "\n",
    "- **Soft labels (logits)** contain richer information than hard labels, reflecting class probabilities and inter-class similarities, improving student model training via knowledge distillation.\n",
    "\n",
    "- **Training and validation split** ensures model generalization is tracked during training, with checkpoints safeguarding progress.\n",
    "\n",
    "---\n",
    "\n",
    "*This code prepares a ResNet-34 teacher network, trains it, and generates soft labels from the training data to enable downstream knowledge distillation.*\n"
   ]
  },
  {
   "cell_type": "code",
   "execution_count": 21,
   "id": "9e33c912-0716-44ef-a91b-47ca19a2b2cd",
   "metadata": {
    "tags": []
   },
   "outputs": [
    {
     "name": "stderr",
     "output_type": "stream",
     "text": [
      "100%|██████████| 30/30 [08:23<00:00, 16.79s/it]\n"
     ]
    },
    {
     "name": "stdout",
     "output_type": "stream",
     "text": [
      "training time: 503.61\n"
     ]
    },
    {
     "data": {
      "image/png": "[encoded data removed]",
      "text/plain": [
       "<Figure size 1000x1500 with 3 Axes>"
      ]
     },
     "metadata": {},
     "output_type": "display_data"
    }
   ],
   "source": [
    "\n",
    "\n",
    "res_layers_teacher = []\n",
    "depth = 34\n",
    "blocks_per_stage = [3, 4, 6, 3]\n",
    "channels = [64, 128, 256, 512]\n",
    "input_shape = (3, 32, 32)\n",
    "\n",
    "for stage, (n_blocks, out_channels) in enumerate(zip(blocks_per_stage, channels)):\n",
    "    for block_idx in range(n_blocks):\n",
    "        stride = 2 if block_idx == 0 and stage > 0 else 1\n",
    "        layer_config = {\n",
    "            \"out_channels\": out_channels,\n",
    "            \"stride\": stride,\n",
    "            \"dropout\": 0.0,\n",
    "            \"pool\": None\n",
    "        }\n",
    "        res_layers_teacher.append(layer_config)\n",
    "\n",
    "teacher = ResCNN(\n",
    "    input_shape = input_shape,\n",
    "    res_layers = res_layers_teacher,\n",
    "    block_type = BasicBlock,\n",
    "    base_width = 64,\n",
    "    norm_layer = nn.BatchNorm2d\n",
    ")\n",
    "\n",
    "output_size = teacher.get_output_size()\n",
    "mlp_tail = MLP( #should i put softmax as act func? probably yes\n",
    "    layer_sizes = [output_size, 512, 10],\n",
    "    act_funcs = [nn.ReLU, None],\n",
    "    dropouts = [0.5, 0.0],\n",
    "    use_bias = True\n",
    ")\n",
    "teacher.attach_mlp(mlp_tail)\n",
    "\n",
    "optimizer = torch.optim.Adam(teacher.parameters(), lr = LEARNING_RATE)\n",
    "scheduler = torch.optim.lr_scheduler.ReduceLROnPlateau(optimizer, mode = 'min', factor = 0.5, patience = EARLY_STOPPING_PATIENCE)\n",
    "\n",
    "pipeline = SLTrainingPipeline(\n",
    "    model = teacher,\n",
    "    optimizer = optimizer,\n",
    "    lr_scheduler = scheduler,\n",
    "    metrics = metrics,\n",
    "    device = device,\n",
    "    run_id = 'teacher',\n",
    "    log_dir = LOGS_DIR,\n",
    "    checkpoint_dir = \".\" + CHECKPOINTS_DIR,\n",
    "    callbacks = callbacks\n",
    ")\n",
    "\n",
    "history = pipeline.fit(epochs = NUM_EPOCHS, train_loader =train_loader, val_loader = val_loader, verbose = False)\n",
    "#pipeline.load()\n",
    "\n",
    "pipeline.plot()\n",
    "#Just using evaluation to compute soft_labels, that's why test_loader is train_loader\n",
    "pipeline.evaluate(test_loader = train_loader, verbose = False)\n",
    "\n",
    "soft_labels = pipeline.get_callbacks_data()[\"soft_labels\"]"
   ]
  },
  {
   "cell_type": "markdown",
   "id": "50abab8f",
   "metadata": {},
   "source": [
    "## 🎓 Smaller ResNet Student Model for Distillation\n",
    "\n",
    "### ✅ What the code does\n",
    "\n",
    "- **Student ResNet architecture setup:**  \n",
    "  - Builds a **smaller residual network** with fewer layers and channels compared to the teacher:  \n",
    "    - `blocks_per_stage = [1, 2, 1]` → total 4 residual blocks across 3 stages (versus many more in teacher).  \n",
    "    - Channels increase as `[32, 64, 128]`.  \n",
    "  - Downsampling (stride=2) applied at first block of each stage after the first, reducing spatial resolution progressively.  \n",
    "  - Each block configured with no dropout and no explicit pooling.\n",
    "\n",
    "- **Model instantiation:**  \n",
    "  - Creates a `ResCNN` student model with the above residual layers, using the same `BasicBlock` and batch norm.  \n",
    "  - Input shape remains `(3, 32, 32)`.\n",
    "\n",
    "- **MLP head (tail):**  \n",
    "  - Smaller MLP classifier tail:  \n",
    "    - Hidden layer with 256 units, ReLU activation, dropout 0.3 (slightly less capacity than teacher’s 512 units).  \n",
    "    - Output layer: 10 classes, no activation (logits output).\n",
    "\n",
    "- **Optimizer and scheduler:**  \n",
    "  - Adam optimizer with the same learning rate scheduling strategy as teacher.\n",
    "\n",
    "- **Training pipeline setup:**  \n",
    "  - Creates a pipeline for supervised training using `SLTrainingPipeline`.  \n",
    "  - Associates model, optimizer, scheduler, metrics, device, logging, and checkpoint directories.\n",
    "\n",
    "- **Training call commented out:**  \n",
    "  - Training is not executed in this snippet (`pipeline_student.fit` is commented).  \n",
    "  - Instead, the pipeline attempts to **load pre-trained weights** from checkpoint with `pipeline_student.load()`.\n",
    "\n",
    "- **Plotting training history:**  \n",
    "  - Visualizes the loaded training progress/history via `pipeline_student.plot()`.\n",
    "\n",
    "---\n",
    "\n",
    "### 🔍 Why it’s done this way\n",
    "\n",
    "- **Student model is smaller and less deep:**  \n",
    "  Designed to be more efficient and faster to train/infer compared to the teacher, typical in knowledge distillation setups.\n",
    "\n",
    "- **Reduced MLP tail size:**  \n",
    "  Matches smaller feature representation and helps avoid overfitting.\n",
    "\n",
    "- **Loading pre-trained weights instead of training:**  \n",
    "  Useful for continuing experiments, evaluating, or resuming from checkpoints without re-running the entire training.\n",
    "\n",
    "- **Pipeline abstraction:**  \n",
    "  Maintains consistent training/evaluation flow with the teacher setup for easier comparison.\n",
    "\n",
    "---\n",
    "\n",
    "### 🧠 Theoretical context\n",
    "\n",
    "- **Knowledge distillation**: student is a compressed version of teacher, learning from teacher’s soft labels to approximate its performance with fewer parameters.\n",
    "\n",
    "- **Residual blocks and batch norm**: help stabilize training in deeper models; still used here to enable efficient student training.\n",
    "\n",
    "- **Learning rate scheduling and early stopping patience**: prevent overfitting and adapt learning dynamically.\n",
    "\n",
    "---\n",
    "\n",
    "*This code sets up a smaller ResNet-based student model, prepared for training or loading pretrained weights, as part of a distillation pipeline.*  \n"
   ]
  },
  {
   "cell_type": "code",
   "execution_count": 22,
   "id": "ae8917ee",
   "metadata": {},
   "outputs": [
    {
     "name": "stderr",
     "output_type": "stream",
     "text": [
      "/home/marco/Desktop/University/DLA/Labs (1,2,3)/BaseTrainingPipeline.py:215: FutureWarning: You are using `torch.load` with `weights_only=False` (the current default value), which uses the default pickle module implicitly. It is possible to construct malicious pickle data which will execute arbitrary code during unpickling (See https://github.com/pytorch/pytorch/blob/main/SECURITY.md#untrusted-models for more details). In a future release, the default value for `weights_only` will be flipped to `True`. This limits the functions that could be executed during unpickling. Arbitrary objects will no longer be allowed to be loaded via this mode unless they are explicitly allowlisted by the user via `torch.serialization.add_safe_globals`. We recommend you start setting `weights_only=True` for any use case where you don't have full control of the loaded file. Please open an issue on GitHub for any issues related to this experimental feature.\n",
      "  states = torch.load(file_path, map_location = self.device)\n"
     ]
    },
    {
     "data": {
      "image/png": "[encoded data removed]",
      "text/plain": [
       "<Figure size 1000x1500 with 3 Axes>"
      ]
     },
     "metadata": {},
     "output_type": "display_data"
    },
    {
     "data": {
      "text/plain": [
       "(<Figure size 1000x1500 with 3 Axes>,\n",
       " array([<Axes: title={'center': 'loss'}, ylabel='loss'>,\n",
       "        <Axes: title={'center': 'accuracy'}, ylabel='accuracy'>,\n",
       "        <Axes: title={'center': 'lr'}, ylabel='lr'>], dtype=object))"
      ]
     },
     "execution_count": 22,
     "metadata": {},
     "output_type": "execute_result"
    }
   ],
   "source": [
    "\n",
    "\n",
    "res_layers_student = []\n",
    "blocks_per_stage = [1, 2, 1]#2, 1]\n",
    "channels = [32, 64, 128]#, 256]\n",
    "\n",
    "for stage, (n_blocks, out_channels) in enumerate(zip(blocks_per_stage, channels)):\n",
    "    for block_idx in range(n_blocks):\n",
    "        stride = 2 if block_idx == 0 and stage > 0 else 1\n",
    "        layer_config = {\n",
    "            \"out_channels\": out_channels,\n",
    "            \"stride\": stride,\n",
    "            \"dropout\": 0.0,\n",
    "            \"pool\": None\n",
    "        }\n",
    "        res_layers_student.append(layer_config)\n",
    "\n",
    "student = ResCNN(\n",
    "    input_shape = input_shape,\n",
    "    res_layers = res_layers_student,\n",
    "    block_type = BasicBlock,\n",
    "    base_width = 64,\n",
    "    norm_layer = nn.BatchNorm2d\n",
    ")\n",
    "\n",
    "output_size = student.get_output_size()\n",
    "mlp_tail = MLP(\n",
    "    layer_sizes = [output_size, 256, 10],\n",
    "    act_funcs = [nn.ReLU, None],\n",
    "    dropouts = [0.3, 0.0],\n",
    "    use_bias = True\n",
    ")\n",
    "student.attach_mlp(mlp_tail)\n",
    "\n",
    "optimizer = torch.optim.Adam(student.parameters(), lr = LEARNING_RATE)\n",
    "scheduler = torch.optim.lr_scheduler.ReduceLROnPlateau(optimizer, mode = 'min', factor = 0.5, patience = EARLY_STOPPING_PATIENCE)\n",
    "\n",
    "pipeline_student = SLTrainingPipeline(\n",
    "    model = student,\n",
    "    optimizer = optimizer,\n",
    "    lr_scheduler = scheduler,\n",
    "    metrics = metrics,\n",
    "    device = device,\n",
    "    run_id = 'student',\n",
    "    log_dir = LOGS_DIR,\n",
    "    checkpoint_dir = \".\"+CHECKPOINTS_DIR\n",
    ")\n",
    "\n",
    "#history_student = pipeline_student.fit(\n",
    "#    epochs = n_epochs,\n",
    "#    train_loader = train,\n",
    "#    val_loader = val,\n",
    "#    verbose = False\n",
    "#)\n",
    "\n",
    "pipeline_student.load()\n",
    "\n",
    "pipeline_student.plot()"
   ]
  },
  {
   "cell_type": "markdown",
   "id": "f03b5d7b",
   "metadata": {},
   "source": [
    "## 📚 Custom Dataset for Knowledge Distillation: `DistillationDataset`\n",
    "\n",
    "\n",
    "- **Purpose:**  \n",
    "  Wraps an existing dataset to provide **both hard labels and soft labels** for distillation training.\n",
    "\n",
    "- **Initialization (`__init__`):**  \n",
    "  - Takes two inputs:  \n",
    "    - `original_dataset`: the base dataset (e.g., images + hard labels).  \n",
    "    - `soft_labels`: a NumPy array of soft labels (typically teacher logits or probabilities).  \n",
    "  - Converts `soft_labels` from NumPy array to a PyTorch tensor with dtype `float`.  \n",
    "  - Checks that dataset and soft labels lengths match to avoid misalignment.\n",
    "\n",
    "- **Length (`__len__`):**  \n",
    "  - Returns the number of samples in the dataset.\n",
    "\n",
    "- **Item access (`__getitem__`):**  \n",
    "  - Retrieves the input data `X` and the original hard label from `original_dataset`.  \n",
    "  - Retrieves corresponding soft label from `soft_labels`.  \n",
    "  - Returns a tuple: `(X, (hard_label, soft_label))`.  \n",
    "    - This allows the training loop to access both labels simultaneously for combined loss calculation.\n",
    "\n",
    "\n"
   ]
  },
  {
   "cell_type": "code",
   "execution_count": 23,
   "id": "46bc153e",
   "metadata": {},
   "outputs": [],
   "source": [
    "\n",
    "\n",
    "class DistillationDataset(torch.utils.data.Dataset):\n",
    "    def __init__(self, original_dataset, soft_labels):\n",
    "\n",
    "        self.original_dataset = original_dataset\n",
    "\n",
    "        #suppose soft_labels a numpy array\n",
    "        self.soft_labels = torch.from_numpy(soft_labels).float()\n",
    "        \n",
    "        assert len(self.original_dataset) == len(self.soft_labels), \"Length mismatch between original dataset and soft labels.\"\n",
    "        \n",
    "    def __len__(self):\n",
    "        return len(self.original_dataset)\n",
    "\n",
    "    def __getitem__(self, idx):\n",
    "        X, hard_label = self.original_dataset[idx]\n",
    "        soft_label = self.soft_labels[idx]\n",
    "        return X, (hard_label, soft_label)"
   ]
  },
  {
   "cell_type": "markdown",
   "id": "3a63661d",
   "metadata": {},
   "source": [
    "## 🎯 Distillation Loss: Combining Hard and Soft Label Supervision\n",
    "\n",
    "### ✅ What the code does\n",
    "\n",
    "- **Class `DistillationLoss` inherits from `nn.Module`:**  \n",
    "  Implements a custom loss function combining standard classification loss and distillation loss.\n",
    "\n",
    "- **Constructor (`__init__`):**  \n",
    "  - `temperature`: smoothing parameter to soften logits (higher → softer probabilities).  \n",
    "  - `alpha`: weighting factor balancing hard-label loss and soft-label loss.  \n",
    "  - `base_criterion`: default is `CrossEntropyLoss` for hard label classification.  \n",
    "  - Defines a `KLDivLoss` with `batchmean` reduction for measuring divergence between teacher and student soft predictions.\n",
    "\n",
    "- **Forward method (`forward`):**  \n",
    "  - Accepts `y` (student model logits) and `targets`.  \n",
    "  - If `targets` is not a tuple of length 2 (hard and soft labels), just applies base criterion on `y` and `targets` (standard supervised loss).  \n",
    "  - Otherwise:  \n",
    "    - Unpacks `targets` into `hard` (hard labels) and `soft` (teacher soft labels/logits).  \n",
    "    - Computes hard loss: `loss_hard = base_criterion(y, hard)` (e.g., cross entropy).  \n",
    "    - Computes softened student probabilities: `p = log_softmax(y / temperature)`.  \n",
    "    - Computes softened teacher probabilities: `q = softmax(soft / temperature)`.  \n",
    "    - Computes soft loss as KL divergence between softened outputs: `loss_soft = KLDivLoss(p, q) * temperature²`.  \n",
    "    - Returns combined loss:  \n",
    "      \\[\n",
    "      \\text{loss} = \\alpha \\times \\text{loss_hard} + (1 - \\alpha) \\times \\text{loss_soft}\n",
    "      \\]\n",
    "\n",
    "---\n",
    "\n",
    "### 🔍 Why it’s done this way\n",
    "\n",
    "- **Temperature scaling:**  \n",
    "  Softens the logits to reveal dark knowledge — finer class similarity information.\n",
    "\n",
    "- **KL divergence loss:**  \n",
    "  Measures how close the student’s softened output distribution matches the teacher’s softened outputs.\n",
    "\n",
    "- **Weighted sum with `alpha`:**  \n",
    "  Balances learning from true labels (`hard`) and from teacher’s output distribution (`soft`).\n",
    "\n",
    "- **Fallback behavior:**  \n",
    "  If soft labels are not provided, falls back to standard supervised loss.\n",
    "\n"
   ]
  },
  {
   "cell_type": "code",
   "execution_count": 24,
   "id": "bdbc0f25",
   "metadata": {},
   "outputs": [],
   "source": [
    "#Distillation criterion \n",
    "\n",
    "import torch.nn.functional as F\n",
    "\n",
    "class DistillationLoss(nn.Module):\n",
    "    def __init__(self, temperature, alpha, base_criterion = nn.CrossEntropyLoss()):\n",
    "        super().__init__()\n",
    "        \n",
    "        self.base_criterion = base_criterion\n",
    "        self.temperature = temperature\n",
    "        self.alpha = alpha\n",
    "\n",
    "        self.kl_div_loss = nn.KLDivLoss(reduction = 'batchmean') #Kullback-Leibler divergence loss\n",
    "\n",
    "    def forward(self, y, targets):\n",
    "        if not isinstance(targets, tuple) or len(targets) != 2:\n",
    "            loss = self.base_criterion(y, targets)\n",
    "            return loss\n",
    "\n",
    "        hard, soft = targets\n",
    "\n",
    "        loss_hard = self.base_criterion(y, hard)\n",
    "\n",
    "        p = F.log_softmax(y/self.temperature, dim = 1)\n",
    "        q = F.softmax(soft/self.temperature, dim = 1)\n",
    "\n",
    "        loss_soft = self.kl_div_loss(p, q) * (self.temperature ** 2)\n",
    "\n",
    "        loss = self.alpha * loss_hard + (1 - self.alpha) * loss_soft\n",
    "        return loss"
   ]
  },
  {
   "cell_type": "markdown",
   "id": "fc41664b",
   "metadata": {},
   "source": [
    "## 📊 Distillation Accuracy Metric\n",
    "\n",
    "### ✅ What the code does\n",
    "\n",
    "- Defines a function `distillation_accuracy` to compute accuracy during distillation training.\n",
    "\n",
    "- **Input:**  \n",
    "  - `logits`: model raw outputs (before softmax).  \n",
    "  - `targets`: either just hard labels or a tuple `(hard_labels, soft_labels)`.\n",
    "\n",
    "- **Logic:**  \n",
    "  - If `targets` is a tuple or list, extracts the hard labels (first element).  \n",
    "  - If `targets` is not a tensor (e.g., None or other type), returns accuracy as `0.0` to avoid errors.  \n",
    "  - Uses `torch.max(logits.data, 1)` to get predicted class indices.  \n",
    "  - Compares predicted indices with hard labels to compute mean accuracy as a float scalar.\n",
    "\n",
    "- **Result:**  \n",
    "  Returns the classification accuracy on hard labels as a Python float.\n",
    "\n",
    "- Assigns this function as `\"accuracy\"` in a dictionary `metrics` for easy integration into training pipelines.\n",
    "\n",
    "---\n",
    "\n",
    "### 🔍 Why it’s done this way\n",
    "\n",
    "- **Handles both normal and distillation targets:**  \n",
    "  Targets may include soft labels during distillation, but accuracy is computed only on hard (true) labels.\n",
    "\n",
    "- **Robustness check:**  \n",
    "  Returns 0.0 if hard labels are missing or not tensor, preventing runtime errors.\n",
    "\n",
    "- **Simple accuracy computation:**  \n",
    "  Compares predictions with hard labels, providing an intuitive and standard metric for classification.\n",
    "\n",
    "\n"
   ]
  },
  {
   "cell_type": "code",
   "execution_count": 25,
   "id": "560bc625",
   "metadata": {},
   "outputs": [],
   "source": [
    "#Distillation accuracy metric\n",
    "\n",
    "def distillation_accuracy(logits, targets):\n",
    "    if isinstance(targets, (list, tuple)):\n",
    "        hard_labels = targets[0]\n",
    "    else:\n",
    "        hard_labels = targets\n",
    "\n",
    "    if not isinstance(hard_labels, torch.Tensor):\n",
    "        return 0.0\n",
    "\n",
    "    _, predicted = torch.max(logits.data, 1)\n",
    "\n",
    "    return (predicted == hard_labels).float().mean().item()\n",
    "\n",
    "metrics = {\"accuracy\": distillation_accuracy}"
   ]
  },
  {
   "cell_type": "markdown",
   "id": "13abbb5a",
   "metadata": {},
   "source": [
    "## 🎓 Student Model Training After Lectures with Distillation\n",
    "\n",
    "### ✅ What the code does\n",
    "\n",
    "- **Prepares distillation dataset:**  \n",
    "  - Concatenates saved soft labels (`soft_labels` list) into one tensor (`soft_labels_tensor`) and converts to NumPy (`soft_labels_numpy`).  \n",
    "  - Wraps original CIFAR training set and soft labels in `DistillationDataset`, which returns input plus both hard and soft labels.  \n",
    "  - Creates DataLoader `train` from this dataset (no shuffle here).\n",
    "\n",
    "- **Defines distillation loss:**  \n",
    "  - Sets `temperature=4.0` and `alpha=0.7`.  \n",
    "  - Uses the `DistillationLoss` combining cross-entropy on hard labels and KL divergence on soft labels with these parameters.\n",
    "\n",
    "- **Adjusts learning rate:**  \n",
    "  - Uses a higher learning rate (`lr = 10 * LEARNING_RATE`) as suggested by distillation literature, since soft labels carry richer information.\n",
    "\n",
    "- **Defines a smaller ResCNN student architecture:**  \n",
    "  - With fewer residual blocks and smaller channel sizes (`blocks_per_stage` and `channels`).  \n",
    "  - Constructs residual layers similarly to before.\n",
    "\n",
    "- **Builds the student model:**  \n",
    "  - Creates `ResCNN` with student layers and attaches an MLP head (hidden size 256).  \n",
    "  - Uses ReLU activation and dropout in MLP tail.\n",
    "\n",
    "- **Setup optimizer and scheduler:**  \n",
    "  - Adam optimizer with the higher learning rate.  \n",
    "  - Learning rate scheduler reduces LR on plateau with patience of 3 epochs.\n",
    "\n",
    "- **Configures training pipeline:**  \n",
    "  - Passes student model, distillation loss, optimizer, scheduler, metrics, device, run ID, log and checkpoint directories to `SLTrainingPipeline`.\n",
    "\n",
    "- **Trains the student:**  \n",
    "  - Calls `fit` with the distillation dataset loader and validation loader.  \n",
    "  - Loads best checkpoint after training.  \n",
    "  - Plots training progress.\n",
    "\n",
    "---\n",
    "\n",
    "### 🔍 Why it’s done this way\n",
    "\n",
    "- **Distillation Dataset:**  \n",
    "  Encapsulates soft labels alongside original data to provide both targets during training, enabling the student to learn from the teacher's \"soft\" output distribution.\n",
    "\n",
    "- **Higher Learning Rate:**  \n",
    "  Soft labels are more informative, so the training can use a larger learning rate safely to converge faster.\n",
    "\n",
    "- **Smaller Student Model:**  \n",
    "  Student is a compressed model with fewer layers and smaller widths, aiming to learn distilled knowledge efficiently.\n",
    "\n",
    "- **Use of Distillation Loss:**  \n",
    "  Balances learning from true labels (`hard`) and soft labels (`teacher output`) to improve generalization.\n",
    "\n",
    "- **Learning Rate Scheduler:**  \n",
    "  Helps refine training by lowering LR when validation loss plateaus, preventing overfitting and helping convergence.\n",
    "\n",
    "---\n",
    "\n",
    "### 🧠 Context\n",
    "\n",
    "This process implements knowledge distillation:  \n",
    "- A large, well-trained teacher model generates soft label distributions.  \n",
    "- The smaller student model is trained on the original inputs plus these soft labels, learning richer representations beyond hard labels alone.  \n",
    "- The use of temperature and alpha controls the mix of hard and soft targets to optimize learning.\n",
    "\n",
    "This pipeline fine-tunes the student to approximate the teacher’s behavior while being smaller and more efficient.\n"
   ]
  },
  {
   "cell_type": "code",
   "execution_count": 26,
   "id": "2006802e",
   "metadata": {},
   "outputs": [
    {
     "name": "stderr",
     "output_type": "stream",
     "text": [
      "100%|██████████| 30/30 [03:20<00:00,  6.68s/it]"
     ]
    },
    {
     "name": "stdout",
     "output_type": "stream",
     "text": [
      "training time: 200.49\n"
     ]
    },
    {
     "name": "stderr",
     "output_type": "stream",
     "text": [
      "\n"
     ]
    },
    {
     "data": {
      "image/png": "[encoded data removed]",
      "text/plain": [
       "<Figure size 1000x1500 with 3 Axes>"
      ]
     },
     "metadata": {},
     "output_type": "display_data"
    },
    {
     "data": {
      "text/plain": [
       "(<Figure size 1000x1500 with 3 Axes>,\n",
       " array([<Axes: title={'center': 'loss'}, ylabel='loss'>,\n",
       "        <Axes: title={'center': 'accuracy'}, ylabel='accuracy'>,\n",
       "        <Axes: title={'center': 'lr'}, ylabel='lr'>], dtype=object))"
      ]
     },
     "execution_count": 26,
     "metadata": {},
     "output_type": "execute_result"
    }
   ],
   "source": [
    "\n",
    "soft_labels_tensor = torch.cat(soft_labels, dim = 0)\n",
    "soft_labels_numpy = soft_labels_tensor.numpy()\n",
    "\n",
    "train_dataset = DistillationDataset(cifar_train_dataset, soft_labels_numpy)\n",
    "train = DataLoader(train_dataset, batch_size = BATCH_SIZE, shuffle = False)\n",
    "\n",
    "temperature = 4.0\n",
    "alpha = 0.7\n",
    "distill_criterion = DistillationLoss(temperature = temperature, alpha = alpha)\n",
    "\n",
    "lr = 10 * LEARNING_RATE #paper says to work with higer lr since we have more meaningful labels\n",
    "\n",
    "res_layers_student = []\n",
    "blocks_per_stage = [1, 2, 1]#2, 1]\n",
    "channels = [32, 64, 128]#, 256]\n",
    "\n",
    "for stage, (n_blocks, out_channels) in enumerate(zip(blocks_per_stage, channels)):\n",
    "    for block_idx in range(n_blocks):\n",
    "        stride = 2 if block_idx == 0 and stage > 0 else 1\n",
    "        layer_config = {\n",
    "            \"out_channels\": out_channels,\n",
    "            \"stride\": stride,\n",
    "            \"dropout\": 0.0,\n",
    "            \"pool\": None\n",
    "        }\n",
    "        res_layers_student.append(layer_config)\n",
    "\n",
    "student = ResCNN(\n",
    "    input_shape = input_shape,\n",
    "    res_layers = res_layers_student,\n",
    "    block_type = BasicBlock,\n",
    "    base_width = 64,\n",
    "    norm_layer = nn.BatchNorm2d\n",
    ")\n",
    "\n",
    "output_size = student.get_output_size()\n",
    "mlp_tail = MLP(\n",
    "    layer_sizes = [output_size, 256, 10],\n",
    "    act_funcs = [nn.ReLU, None],\n",
    "    dropouts = [0.3, 0.0],\n",
    "    use_bias = True\n",
    ")\n",
    "student.attach_mlp(mlp_tail)\n",
    "\n",
    "optimizer = torch.optim.Adam(student.parameters(), lr = lr)\n",
    "scheduler = torch.optim.lr_scheduler.ReduceLROnPlateau(optimizer, mode = 'min', factor = 0.5, patience = 3)\n",
    "\n",
    "pipeline_student = SLTrainingPipeline(\n",
    "    model = student,\n",
    "    criterion = distill_criterion,\n",
    "    optimizer = optimizer,\n",
    "    lr_scheduler = scheduler,\n",
    "    metrics = metrics,\n",
    "    device = device,\n",
    "    run_id = 'student_after_lectures',\n",
    "    log_dir = LOGS_DIR,\n",
    "    checkpoint_dir = CHECKPOINTS_DIR\n",
    ")\n",
    "\n",
    "history_student = pipeline_student.fit(\n",
    "    epochs = NUM_EPOCHS,\n",
    "    train_loader = train,\n",
    "    val_loader = val_loader,\n",
    "    verbose = False\n",
    "    )\n",
    "\n",
    "pipeline_student.load()\n",
    "\n",
    "pipeline_student.plot()"
   ]
  },
  {
   "cell_type": "markdown",
   "id": "8243f811-8227-4c6f-b07f-56e8cd91643a",
   "metadata": {},
   "source": [
    "### Exercise 2.3: *Explain* the predictions of a CNN\n",
    "\n",
    "Use the CNN model you trained in Exercise 1.3 and implement [*Class Activation Maps*](http://cnnlocalization.csail.mit.edu/#:~:text=A%20class%20activation%20map%20for,decision%20made%20by%20the%20CNN.):\n",
    "\n",
    "> B. Zhou, A. Khosla, A. Lapedriza, A. Oliva, and A. Torralba. Learning Deep Features for Discriminative Localization. CVPR'16 (arXiv:1512.04150, 2015).\n",
    "\n",
    "Use your CNN implementation to demonstrate how your trained CNN *attends* to specific image features to recognize *specific* classes. Try your implementation out using a pre-trained ResNet-18 model and some images from the [Imagenette](https://pytorch.org/vision/0.20/generated/torchvision.datasets.Imagenette.html#torchvision.datasets.Imagenette) dataset -- I suggest you start with the low resolution version of images at 160px."
   ]
  },
  {
   "cell_type": "code",
   "execution_count": 27,
   "id": "d634a700-56c2-48fd-96e0-4c94d1bd0cfe",
   "metadata": {
    "tags": []
   },
   "outputs": [],
   "source": [
    "# Your code here."
   ]
  }
 ],
 "metadata": {
  "kernelspec": {
   "display_name": "DLA",
   "language": "python",
   "name": "python3"
  },
  "language_info": {
   "codemirror_mode": {
    "name": "ipython",
    "version": 3
   },
   "file_extension": ".py",
   "mimetype": "text/x-python",
   "name": "python",
   "nbconvert_exporter": "python",
   "pygments_lexer": "ipython3",
   "version": "3.12.8"
  }
 },
 "nbformat": 4,
 "nbformat_minor": 5
}
